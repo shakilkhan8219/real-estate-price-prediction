{
 "cells": [
  {
   "cell_type": "markdown",
   "metadata": {},
   "source": [
    "## Importing libraries"
   ]
  },
  {
   "cell_type": "code",
   "execution_count": 1,
   "metadata": {},
   "outputs": [],
   "source": [
    "import pandas as pd\n",
    "import numpy as np"
   ]
  },
  {
   "cell_type": "markdown",
   "metadata": {},
   "source": [
    "##### 1. Read csv file"
   ]
  },
  {
   "cell_type": "code",
   "execution_count": 2,
   "metadata": {},
   "outputs": [
    {
     "name": "stderr",
     "output_type": "stream",
     "text": [
      "C:\\Users\\khan\\AppData\\Local\\Temp\\ipykernel_12452\\4216986157.py:1: DtypeWarning: Columns (120,126,127,139,140,141,143,144,145,146,147,148,149,150,151,152,153,154,155,156) have mixed types. Specify dtype option on import or set low_memory=False.\n",
      "  data_frame = pd.read_csv('collected_all.csv')\n"
     ]
    }
   ],
   "source": [
    "data_frame = pd.read_csv('collected_all.csv')"
   ]
  },
  {
   "cell_type": "markdown",
   "metadata": {},
   "source": [
    "##### 2. check first five row"
   ]
  },
  {
   "cell_type": "code",
   "execution_count": 3,
   "metadata": {},
   "outputs": [
    {
     "data": {
      "text/html": [
       "<div>\n",
       "<style scoped>\n",
       "    .dataframe tbody tr th:only-of-type {\n",
       "        vertical-align: middle;\n",
       "    }\n",
       "\n",
       "    .dataframe tbody tr th {\n",
       "        vertical-align: top;\n",
       "    }\n",
       "\n",
       "    .dataframe thead th {\n",
       "        text-align: right;\n",
       "    }\n",
       "</style>\n",
       "<table border=\"1\" class=\"dataframe\">\n",
       "  <thead>\n",
       "    <tr style=\"text-align: right;\">\n",
       "      <th></th>\n",
       "      <th>id</th>\n",
       "      <th>type</th>\n",
       "      <th>subtype</th>\n",
       "      <th>price</th>\n",
       "      <th>transactionType</th>\n",
       "      <th>zip</th>\n",
       "      <th>visualisationOption</th>\n",
       "      <th>kitchen_type</th>\n",
       "      <th>building_constructionYear</th>\n",
       "      <th>building_condition</th>\n",
       "      <th>...</th>\n",
       "      <th>Is architect included in sale price</th>\n",
       "      <th>Is blower door test included</th>\n",
       "      <th>Kitchen included</th>\n",
       "      <th>Is outskirts arrangements included</th>\n",
       "      <th>Is safety coordinator included in sale price</th>\n",
       "      <th>Is soil investigation included in price</th>\n",
       "      <th>Is stability engineer included</th>\n",
       "      <th>Minimum overbid</th>\n",
       "      <th>Price after higher bid</th>\n",
       "      <th>Monthly rental price</th>\n",
       "    </tr>\n",
       "  </thead>\n",
       "  <tbody>\n",
       "    <tr>\n",
       "      <th>0</th>\n",
       "      <td>10165619.0</td>\n",
       "      <td>house</td>\n",
       "      <td>house</td>\n",
       "      <td>464000</td>\n",
       "      <td>forsale</td>\n",
       "      <td>2890.0</td>\n",
       "      <td>xl</td>\n",
       "      <td>hyperequipped</td>\n",
       "      <td>1946.0</td>\n",
       "      <td>good</td>\n",
       "      <td>...</td>\n",
       "      <td>NaN</td>\n",
       "      <td>NaN</td>\n",
       "      <td>NaN</td>\n",
       "      <td>NaN</td>\n",
       "      <td>NaN</td>\n",
       "      <td>NaN</td>\n",
       "      <td>NaN</td>\n",
       "      <td>NaN</td>\n",
       "      <td>NaN</td>\n",
       "      <td>NaN</td>\n",
       "    </tr>\n",
       "    <tr>\n",
       "      <th>1</th>\n",
       "      <td>9920179.0</td>\n",
       "      <td>house</td>\n",
       "      <td>mixedusebuilding</td>\n",
       "      <td>295000</td>\n",
       "      <td>forsale</td>\n",
       "      <td>2830.0</td>\n",
       "      <td>xl</td>\n",
       "      <td>semiequipped</td>\n",
       "      <td>1955.0</td>\n",
       "      <td>torenovate</td>\n",
       "      <td>...</td>\n",
       "      <td>NaN</td>\n",
       "      <td>NaN</td>\n",
       "      <td>NaN</td>\n",
       "      <td>NaN</td>\n",
       "      <td>NaN</td>\n",
       "      <td>NaN</td>\n",
       "      <td>NaN</td>\n",
       "      <td>NaN</td>\n",
       "      <td>NaN</td>\n",
       "      <td>NaN</td>\n",
       "    </tr>\n",
       "    <tr>\n",
       "      <th>2</th>\n",
       "      <td>10153226.0</td>\n",
       "      <td>housegroup</td>\n",
       "      <td>housegroup</td>\n",
       "      <td>485000-485000</td>\n",
       "      <td>forsale</td>\n",
       "      <td>2275.0</td>\n",
       "      <td>xl</td>\n",
       "      <td>NaN</td>\n",
       "      <td>NaN</td>\n",
       "      <td>NaN</td>\n",
       "      <td>...</td>\n",
       "      <td>NaN</td>\n",
       "      <td>NaN</td>\n",
       "      <td>NaN</td>\n",
       "      <td>NaN</td>\n",
       "      <td>NaN</td>\n",
       "      <td>NaN</td>\n",
       "      <td>NaN</td>\n",
       "      <td>NaN</td>\n",
       "      <td>NaN</td>\n",
       "      <td>NaN</td>\n",
       "    </tr>\n",
       "    <tr>\n",
       "      <th>3</th>\n",
       "      <td>10138007.0</td>\n",
       "      <td>housegroup</td>\n",
       "      <td>housegroup</td>\n",
       "      <td>340980-340980</td>\n",
       "      <td>forsale</td>\n",
       "      <td>2430.0</td>\n",
       "      <td>xl</td>\n",
       "      <td>NaN</td>\n",
       "      <td>NaN</td>\n",
       "      <td>NaN</td>\n",
       "      <td>...</td>\n",
       "      <td>NaN</td>\n",
       "      <td>NaN</td>\n",
       "      <td>NaN</td>\n",
       "      <td>NaN</td>\n",
       "      <td>NaN</td>\n",
       "      <td>NaN</td>\n",
       "      <td>NaN</td>\n",
       "      <td>NaN</td>\n",
       "      <td>NaN</td>\n",
       "      <td>NaN</td>\n",
       "    </tr>\n",
       "    <tr>\n",
       "      <th>4</th>\n",
       "      <td>10067876.0</td>\n",
       "      <td>housegroup</td>\n",
       "      <td>housegroup</td>\n",
       "      <td>342500-342500</td>\n",
       "      <td>forsale</td>\n",
       "      <td>2250.0</td>\n",
       "      <td>xl</td>\n",
       "      <td>NaN</td>\n",
       "      <td>NaN</td>\n",
       "      <td>NaN</td>\n",
       "      <td>...</td>\n",
       "      <td>NaN</td>\n",
       "      <td>NaN</td>\n",
       "      <td>NaN</td>\n",
       "      <td>NaN</td>\n",
       "      <td>NaN</td>\n",
       "      <td>NaN</td>\n",
       "      <td>NaN</td>\n",
       "      <td>NaN</td>\n",
       "      <td>NaN</td>\n",
       "      <td>NaN</td>\n",
       "    </tr>\n",
       "  </tbody>\n",
       "</table>\n",
       "<p>5 rows × 157 columns</p>\n",
       "</div>"
      ],
      "text/plain": [
       "           id        type           subtype          price transactionType  \\\n",
       "0  10165619.0       house             house         464000         forsale   \n",
       "1   9920179.0       house  mixedusebuilding         295000         forsale   \n",
       "2  10153226.0  housegroup        housegroup  485000-485000         forsale   \n",
       "3  10138007.0  housegroup        housegroup  340980-340980         forsale   \n",
       "4  10067876.0  housegroup        housegroup  342500-342500         forsale   \n",
       "\n",
       "      zip visualisationOption   kitchen_type  building_constructionYear  \\\n",
       "0  2890.0                  xl  hyperequipped                     1946.0   \n",
       "1  2830.0                  xl   semiequipped                     1955.0   \n",
       "2  2275.0                  xl            NaN                        NaN   \n",
       "3  2430.0                  xl            NaN                        NaN   \n",
       "4  2250.0                  xl            NaN                        NaN   \n",
       "\n",
       "  building_condition  ... Is architect included in sale price  \\\n",
       "0               good  ...                                 NaN   \n",
       "1         torenovate  ...                                 NaN   \n",
       "2                NaN  ...                                 NaN   \n",
       "3                NaN  ...                                 NaN   \n",
       "4                NaN  ...                                 NaN   \n",
       "\n",
       "   Is blower door test included  Kitchen included  \\\n",
       "0                           NaN               NaN   \n",
       "1                           NaN               NaN   \n",
       "2                           NaN               NaN   \n",
       "3                           NaN               NaN   \n",
       "4                           NaN               NaN   \n",
       "\n",
       "   Is outskirts arrangements included  \\\n",
       "0                                 NaN   \n",
       "1                                 NaN   \n",
       "2                                 NaN   \n",
       "3                                 NaN   \n",
       "4                                 NaN   \n",
       "\n",
       "  Is safety coordinator included in sale price  \\\n",
       "0                                          NaN   \n",
       "1                                          NaN   \n",
       "2                                          NaN   \n",
       "3                                          NaN   \n",
       "4                                          NaN   \n",
       "\n",
       "  Is soil investigation included in price  Is stability engineer included  \\\n",
       "0                                     NaN                             NaN   \n",
       "1                                     NaN                             NaN   \n",
       "2                                     NaN                             NaN   \n",
       "3                                     NaN                             NaN   \n",
       "4                                     NaN                             NaN   \n",
       "\n",
       "  Minimum overbid Price after higher bid Monthly rental price  \n",
       "0             NaN                    NaN                  NaN  \n",
       "1             NaN                    NaN                  NaN  \n",
       "2             NaN                    NaN                  NaN  \n",
       "3             NaN                    NaN                  NaN  \n",
       "4             NaN                    NaN                  NaN  \n",
       "\n",
       "[5 rows x 157 columns]"
      ]
     },
     "execution_count": 3,
     "metadata": {},
     "output_type": "execute_result"
    }
   ],
   "source": [
    "data_frame.head()"
   ]
  },
  {
   "cell_type": "markdown",
   "metadata": {},
   "source": [
    "##### 3. checking last five rows"
   ]
  },
  {
   "cell_type": "code",
   "execution_count": 4,
   "metadata": {},
   "outputs": [
    {
     "data": {
      "text/html": [
       "<div>\n",
       "<style scoped>\n",
       "    .dataframe tbody tr th:only-of-type {\n",
       "        vertical-align: middle;\n",
       "    }\n",
       "\n",
       "    .dataframe tbody tr th {\n",
       "        vertical-align: top;\n",
       "    }\n",
       "\n",
       "    .dataframe thead th {\n",
       "        text-align: right;\n",
       "    }\n",
       "</style>\n",
       "<table border=\"1\" class=\"dataframe\">\n",
       "  <thead>\n",
       "    <tr style=\"text-align: right;\">\n",
       "      <th></th>\n",
       "      <th>id</th>\n",
       "      <th>type</th>\n",
       "      <th>subtype</th>\n",
       "      <th>price</th>\n",
       "      <th>transactionType</th>\n",
       "      <th>zip</th>\n",
       "      <th>visualisationOption</th>\n",
       "      <th>kitchen_type</th>\n",
       "      <th>building_constructionYear</th>\n",
       "      <th>building_condition</th>\n",
       "      <th>...</th>\n",
       "      <th>Is architect included in sale price</th>\n",
       "      <th>Is blower door test included</th>\n",
       "      <th>Kitchen included</th>\n",
       "      <th>Is outskirts arrangements included</th>\n",
       "      <th>Is safety coordinator included in sale price</th>\n",
       "      <th>Is soil investigation included in price</th>\n",
       "      <th>Is stability engineer included</th>\n",
       "      <th>Minimum overbid</th>\n",
       "      <th>Price after higher bid</th>\n",
       "      <th>Monthly rental price</th>\n",
       "    </tr>\n",
       "  </thead>\n",
       "  <tbody>\n",
       "    <tr>\n",
       "      <th>39569</th>\n",
       "      <td>10143880.0</td>\n",
       "      <td>house</td>\n",
       "      <td>house</td>\n",
       "      <td>111111</td>\n",
       "      <td>forsale</td>\n",
       "      <td>8970.0</td>\n",
       "      <td>m</td>\n",
       "      <td>NaN</td>\n",
       "      <td>NaN</td>\n",
       "      <td>good</td>\n",
       "      <td>...</td>\n",
       "      <td>NaN</td>\n",
       "      <td>NaN</td>\n",
       "      <td>NaN</td>\n",
       "      <td>NaN</td>\n",
       "      <td>NaN</td>\n",
       "      <td>NaN</td>\n",
       "      <td>NaN</td>\n",
       "      <td>NaN</td>\n",
       "      <td>NaN</td>\n",
       "      <td>NaN</td>\n",
       "    </tr>\n",
       "    <tr>\n",
       "      <th>39570</th>\n",
       "      <td>10032255.0</td>\n",
       "      <td>house</td>\n",
       "      <td>house</td>\n",
       "      <td>450000</td>\n",
       "      <td>forsale</td>\n",
       "      <td>8660.0</td>\n",
       "      <td>m</td>\n",
       "      <td>NaN</td>\n",
       "      <td>NaN</td>\n",
       "      <td>NaN</td>\n",
       "      <td>...</td>\n",
       "      <td>NaN</td>\n",
       "      <td>NaN</td>\n",
       "      <td>NaN</td>\n",
       "      <td>NaN</td>\n",
       "      <td>NaN</td>\n",
       "      <td>NaN</td>\n",
       "      <td>NaN</td>\n",
       "      <td>NaN</td>\n",
       "      <td>NaN</td>\n",
       "      <td>NaN</td>\n",
       "    </tr>\n",
       "    <tr>\n",
       "      <th>39571</th>\n",
       "      <td>7339903.0</td>\n",
       "      <td>house</td>\n",
       "      <td>house</td>\n",
       "      <td>150000</td>\n",
       "      <td>forsale</td>\n",
       "      <td>8501.0</td>\n",
       "      <td>m</td>\n",
       "      <td>NaN</td>\n",
       "      <td>NaN</td>\n",
       "      <td>NaN</td>\n",
       "      <td>...</td>\n",
       "      <td>NaN</td>\n",
       "      <td>NaN</td>\n",
       "      <td>NaN</td>\n",
       "      <td>NaN</td>\n",
       "      <td>NaN</td>\n",
       "      <td>NaN</td>\n",
       "      <td>NaN</td>\n",
       "      <td>NaN</td>\n",
       "      <td>NaN</td>\n",
       "      <td>NaN</td>\n",
       "    </tr>\n",
       "    <tr>\n",
       "      <th>39572</th>\n",
       "      <td>8996852.0</td>\n",
       "      <td>house</td>\n",
       "      <td>villa</td>\n",
       "      <td>663800</td>\n",
       "      <td>forsale</td>\n",
       "      <td>8750.0</td>\n",
       "      <td>m</td>\n",
       "      <td>NaN</td>\n",
       "      <td>NaN</td>\n",
       "      <td>NaN</td>\n",
       "      <td>...</td>\n",
       "      <td>NaN</td>\n",
       "      <td>NaN</td>\n",
       "      <td>NaN</td>\n",
       "      <td>NaN</td>\n",
       "      <td>NaN</td>\n",
       "      <td>NaN</td>\n",
       "      <td>NaN</td>\n",
       "      <td>NaN</td>\n",
       "      <td>NaN</td>\n",
       "      <td>NaN</td>\n",
       "    </tr>\n",
       "    <tr>\n",
       "      <th>39573</th>\n",
       "      <td>NaN</td>\n",
       "      <td>NaN</td>\n",
       "      <td>NaN</td>\n",
       "      <td>NaN</td>\n",
       "      <td>NaN</td>\n",
       "      <td>NaN</td>\n",
       "      <td>NaN</td>\n",
       "      <td>NaN</td>\n",
       "      <td>NaN</td>\n",
       "      <td>NaN</td>\n",
       "      <td>...</td>\n",
       "      <td>NaN</td>\n",
       "      <td>NaN</td>\n",
       "      <td>NaN</td>\n",
       "      <td>NaN</td>\n",
       "      <td>NaN</td>\n",
       "      <td>NaN</td>\n",
       "      <td>NaN</td>\n",
       "      <td>NaN</td>\n",
       "      <td>NaN</td>\n",
       "      <td>NaN</td>\n",
       "    </tr>\n",
       "  </tbody>\n",
       "</table>\n",
       "<p>5 rows × 157 columns</p>\n",
       "</div>"
      ],
      "text/plain": [
       "               id   type subtype   price transactionType     zip  \\\n",
       "39569  10143880.0  house   house  111111         forsale  8970.0   \n",
       "39570  10032255.0  house   house  450000         forsale  8660.0   \n",
       "39571   7339903.0  house   house  150000         forsale  8501.0   \n",
       "39572   8996852.0  house   villa  663800         forsale  8750.0   \n",
       "39573         NaN    NaN     NaN     NaN             NaN     NaN   \n",
       "\n",
       "      visualisationOption kitchen_type  building_constructionYear  \\\n",
       "39569                   m          NaN                        NaN   \n",
       "39570                   m          NaN                        NaN   \n",
       "39571                   m          NaN                        NaN   \n",
       "39572                   m          NaN                        NaN   \n",
       "39573                 NaN          NaN                        NaN   \n",
       "\n",
       "      building_condition  ... Is architect included in sale price  \\\n",
       "39569               good  ...                                 NaN   \n",
       "39570                NaN  ...                                 NaN   \n",
       "39571                NaN  ...                                 NaN   \n",
       "39572                NaN  ...                                 NaN   \n",
       "39573                NaN  ...                                 NaN   \n",
       "\n",
       "       Is blower door test included  Kitchen included  \\\n",
       "39569                           NaN               NaN   \n",
       "39570                           NaN               NaN   \n",
       "39571                           NaN               NaN   \n",
       "39572                           NaN               NaN   \n",
       "39573                           NaN               NaN   \n",
       "\n",
       "       Is outskirts arrangements included  \\\n",
       "39569                                 NaN   \n",
       "39570                                 NaN   \n",
       "39571                                 NaN   \n",
       "39572                                 NaN   \n",
       "39573                                 NaN   \n",
       "\n",
       "      Is safety coordinator included in sale price  \\\n",
       "39569                                          NaN   \n",
       "39570                                          NaN   \n",
       "39571                                          NaN   \n",
       "39572                                          NaN   \n",
       "39573                                          NaN   \n",
       "\n",
       "      Is soil investigation included in price  Is stability engineer included  \\\n",
       "39569                                     NaN                             NaN   \n",
       "39570                                     NaN                             NaN   \n",
       "39571                                     NaN                             NaN   \n",
       "39572                                     NaN                             NaN   \n",
       "39573                                     NaN                             NaN   \n",
       "\n",
       "      Minimum overbid Price after higher bid Monthly rental price  \n",
       "39569             NaN                    NaN                  NaN  \n",
       "39570             NaN                    NaN                  NaN  \n",
       "39571             NaN                    NaN                  NaN  \n",
       "39572             NaN                    NaN                  NaN  \n",
       "39573             NaN                    NaN                  NaN  \n",
       "\n",
       "[5 rows x 157 columns]"
      ]
     },
     "execution_count": 4,
     "metadata": {},
     "output_type": "execute_result"
    }
   ],
   "source": [
    "data_frame.tail()"
   ]
  },
  {
   "cell_type": "markdown",
   "metadata": {},
   "source": [
    "##### 4. checking shape of the data (rows,columns)"
   ]
  },
  {
   "cell_type": "code",
   "execution_count": 5,
   "metadata": {},
   "outputs": [
    {
     "data": {
      "text/plain": [
       "(39574, 157)"
      ]
     },
     "execution_count": 5,
     "metadata": {},
     "output_type": "execute_result"
    }
   ],
   "source": [
    "data_frame.shape"
   ]
  },
  {
   "cell_type": "code",
   "execution_count": 6,
   "metadata": {},
   "outputs": [
    {
     "data": {
      "text/plain": [
       "id                                             9\n",
       "type                                           9\n",
       "subtype                                        9\n",
       "price                                          9\n",
       "transactionType                                9\n",
       "                                           ...  \n",
       "Is soil investigation included in price    39573\n",
       "Is stability engineer included             39573\n",
       "Minimum overbid                            39573\n",
       "Price after higher bid                     39573\n",
       "Monthly rental price                       39573\n",
       "Length: 157, dtype: int64"
      ]
     },
     "execution_count": 6,
     "metadata": {},
     "output_type": "execute_result"
    }
   ],
   "source": [
    "data_frame.isnull().sum()"
   ]
  },
  {
   "cell_type": "markdown",
   "metadata": {},
   "source": [
    "##### 5. To check  all columns headings"
   ]
  },
  {
   "cell_type": "code",
   "execution_count": 7,
   "metadata": {},
   "outputs": [
    {
     "data": {
      "text/plain": [
       "Index(['id', 'type', 'subtype', 'price', 'transactionType', 'zip',\n",
       "       'visualisationOption', 'kitchen_type', 'building_constructionYear',\n",
       "       'building_condition',\n",
       "       ...\n",
       "       'Is architect included in sale price', 'Is blower door test included',\n",
       "       'Kitchen included', 'Is outskirts arrangements included',\n",
       "       'Is safety coordinator included in sale price',\n",
       "       'Is soil investigation included in price',\n",
       "       'Is stability engineer included', 'Minimum overbid',\n",
       "       'Price after higher bid', 'Monthly rental price'],\n",
       "      dtype='object', length=157)"
      ]
     },
     "execution_count": 7,
     "metadata": {},
     "output_type": "execute_result"
    }
   ],
   "source": [
    "data_frame.columns"
   ]
  },
  {
   "cell_type": "markdown",
   "metadata": {},
   "source": [
    "## Data cleaning"
   ]
  },
  {
   "cell_type": "code",
   "execution_count": 8,
   "metadata": {},
   "outputs": [
    {
     "data": {
      "text/plain": [
       "Index(['id', 'type', 'subtype', 'price', 'zip', 'kitchen_type',\n",
       "       'building_condition', 'energy_heatingType', 'bedroom_count',\n",
       "       'land_surface', 'Province', 'Living area', 'Living room surface',\n",
       "       'Kitchen type', 'Kitchen surface', 'Bathrooms', 'Toilets', 'Basement',\n",
       "       'Furnished', 'Surface of the plot', 'Garden', 'Terrace surface'],\n",
       "      dtype='object')"
      ]
     },
     "execution_count": 8,
     "metadata": {},
     "output_type": "execute_result"
    }
   ],
   "source": [
    "df = data_frame.drop(['transactionType',\"visualisationOption\"\n",
    ",\"building_constructionYear\",\"certificates_primaryEnergyConsumptionLevel\",\n",
    "\"atticExists\",\"basementExists\",\"outdoor_garden_surface\",\"outdoor_terrace_exists\",\n",
    "\"specificities_SME_office_exists\",\"wellnessEquipment_hasSwimmingPool\",\n",
    "\"parking_parkingSpaceCount_indoor\",\"parking_parkingSpaceCount_outdoor\",\n",
    "\"condition_isNewlyBuilt\",\"Available as of\",\"Construction year\",\"Number of frontages\",\n",
    "\"Outdoor parking spaces\",\"Bedrooms\",\"Bedroom 1 surface\",\"Bedroom 2 surface\",\"Bedroom 3 surface\",\n",
    "\"Primary energy consumption\",\"Energy class\",\"Reference number of the EPC report\",\n",
    "\"CO₂ emission\",\"Yearly theoretical total energy consumption\",\"As built plan\",\"Heating type\",\"Double glazing\",\n",
    "\"Planning permission obtained\",\"Subdivision permit\",\"Possible priority purchase right\",\n",
    "\"Proceedings for breach of planning regulations\",\"Flood zone type\",\"Latest land use designation\",\n",
    "\"Price\",\"Cadastral income\",\"Tenement building\",\"Address\",\"Website\",\"External reference\",\"Neighbourhood or locality\",\n",
    "\"Street frontage width\",\"Width of the lot on the street\",\"Gas, water &amp; electricity\",\n",
    "\"Conformity certification for fuel tanks\",\"Available date\",\"Obligation to build\",\n",
    "\"Covered parking spaces\",\"Surroundings type\",\"How many fireplaces?\",\"Dressing room\",\"Office\",\n",
    "\"Professional space surface\",\"Professional space\",\"Basement surface\",\"Attic surface\",\"Armored door\",\n",
    "\"Land is facing street\",\"Wooded land\",\"Plot at rear\",\"Flat land\",\"Connection to sewer network\",\"Garden surface\",\n",
    "\"Terrace orientation\",\"Caretaker\",\"Elevator\",\"Accessible for disabled people\",\"Intercom\",\n",
    "\"Secure access / alarm\",\"Air conditioning\",\"TV cable\",\"Visio phone\",\"Jacuzzi\",\"Sauna\",\n",
    "\"Swimming pool\",\"Internet\",\"Heat pump\",\"Photovoltaic solar panels\",\"Thermic solar panels\",\n",
    "\"Common water heater\",\"Type of building\",\"Bedroom 4 surface\",\"Office surface\",\"Dining room\",\n",
    "\"Terrace\",\"Virtual visit\",\"Shower rooms\",\"Total ground floor buildable\",\"Laundry room\",\"Attic\",\n",
    "\"E-level (overall energy performance)\",\t\"Bedroom 5 surface\",\"Living room\",\"Isolated\",\"Monthly charges\",\t\n",
    "\"Percentage rented\",\"Current monthly revenue\",\"Property name\",\"Number of annexes\",\"Agent's name\",\"EPC description\",\"Extra information\",\t\n",
    "\"Venue of the sale\",\"Single session\",\"Terms of visit\",\"Starting price\",\"Lump sum\",\"Monthly annuity\",\n",
    "\"Indexed annuity\",\"Reversionary annuity\",\"Bare ownership sale\",\"Number of annuitants\",\n",
    "\"Age of annuitant\",\"Maximum duration of annuity\",\"Age of annuitants\",\"Date of the sale\",\n",
    "\"Value of the property\",\"Sea view\",\t\"Architectural style\",\"Construction delay\",\t\n",
    "\"Energy performance\",\"Is architect included in sale price\",\"Is blower door test included\",\n",
    "\"Kitchen included\",\"Is outskirts arrangements included\",\"Is safety coordinator included in sale price\",\t\n",
    "\"Is soil investigation included in price\",\"Is stability engineer included\",\"Minimum overbid\",\"Price after higher bid\",\"Monthly rental price\",'Province.1','Building condition',\"Garden orientation\"], axis = 1, errors=\"ignore\")\n",
    "df.columns\n",
    "\n"
   ]
  },
  {
   "cell_type": "code",
   "execution_count": 9,
   "metadata": {},
   "outputs": [
    {
     "data": {
      "text/plain": [
       "0        False\n",
       "1        False\n",
       "2        False\n",
       "3        False\n",
       "4        False\n",
       "         ...  \n",
       "39569    False\n",
       "39570    False\n",
       "39571    False\n",
       "39572    False\n",
       "39573     True\n",
       "Length: 39574, dtype: bool"
      ]
     },
     "execution_count": 9,
     "metadata": {},
     "output_type": "execute_result"
    }
   ],
   "source": [
    "# to find presence of duplicats\n",
    "df.duplicated()"
   ]
  },
  {
   "cell_type": "code",
   "execution_count": 10,
   "metadata": {},
   "outputs": [
    {
     "data": {
      "text/plain": [
       "(39574, 22)"
      ]
     },
     "execution_count": 10,
     "metadata": {},
     "output_type": "execute_result"
    }
   ],
   "source": [
    "# to find rows and column numbers\n",
    "df.shape"
   ]
  },
  {
   "cell_type": "code",
   "execution_count": 11,
   "metadata": {},
   "outputs": [
    {
     "data": {
      "text/plain": [
       "(39566, 22)"
      ]
     },
     "execution_count": 11,
     "metadata": {},
     "output_type": "execute_result"
    }
   ],
   "source": [
    "# remove duplicates\n",
    "df = df.drop_duplicates()\n",
    "df.shape"
   ]
  },
  {
   "cell_type": "code",
   "execution_count": 12,
   "metadata": {},
   "outputs": [
    {
     "data": {
      "text/plain": [
       "id                         1\n",
       "type                       1\n",
       "subtype                    1\n",
       "price                      1\n",
       "zip                        1\n",
       "kitchen_type           15991\n",
       "building_condition     11809\n",
       "energy_heatingType     13577\n",
       "bedroom_count            906\n",
       "land_surface             906\n",
       "Province                   1\n",
       "Living area             9178\n",
       "Living room surface    23574\n",
       "Kitchen type           15991\n",
       "Kitchen surface        25146\n",
       "Bathrooms               7821\n",
       "Toilets                12391\n",
       "Basement               26107\n",
       "Furnished              14635\n",
       "Surface of the plot     6087\n",
       "Garden                 33548\n",
       "Terrace surface        29191\n",
       "dtype: int64"
      ]
     },
     "execution_count": 12,
     "metadata": {},
     "output_type": "execute_result"
    }
   ],
   "source": [
    "df.isnull().sum()"
   ]
  },
  {
   "cell_type": "markdown",
   "metadata": {},
   "source": [
    "##### Check NaN in column"
   ]
  },
  {
   "cell_type": "code",
   "execution_count": 13,
   "metadata": {},
   "outputs": [
    {
     "data": {
      "text/plain": [
       "True"
      ]
     },
     "execution_count": 13,
     "metadata": {},
     "output_type": "execute_result"
    }
   ],
   "source": [
    "# to find presence of Nan \n",
    "df['price'].isnull().values.any()\n"
   ]
  },
  {
   "cell_type": "markdown",
   "metadata": {},
   "source": [
    "##### Count NaN in single column"
   ]
  },
  {
   "cell_type": "code",
   "execution_count": 14,
   "metadata": {},
   "outputs": [
    {
     "data": {
      "text/plain": [
       "1"
      ]
     },
     "execution_count": 14,
     "metadata": {},
     "output_type": "execute_result"
    }
   ],
   "source": [
    "df['price'].isnull().sum()"
   ]
  },
  {
   "cell_type": "code",
   "execution_count": 15,
   "metadata": {},
   "outputs": [
    {
     "data": {
      "text/plain": [
       "0"
      ]
     },
     "execution_count": 15,
     "metadata": {},
     "output_type": "execute_result"
    }
   ],
   "source": [
    "# removing null value in \"price\" column \n",
    "df.dropna(subset=['price'], inplace=True)\n",
    "# checking again null value\n",
    "df['price'].isnull().sum()"
   ]
  },
  {
   "cell_type": "code",
   "execution_count": 16,
   "metadata": {},
   "outputs": [
    {
     "name": "stdout",
     "output_type": "stream",
     "text": [
      "11\n"
     ]
    }
   ],
   "source": [
    "#column \"price\" containg string \"noprice\"\n",
    "print(list(df['price']).count('noprice'))"
   ]
  },
  {
   "cell_type": "code",
   "execution_count": 17,
   "metadata": {},
   "outputs": [
    {
     "name": "stdout",
     "output_type": "stream",
     "text": [
      "0\n"
     ]
    }
   ],
   "source": [
    "#removing the row in column \"price\" containg string \"noprice\"\n",
    "df = df[df[\"price\"].str.contains(\"noprice\") == False]\n",
    "# checking again \"noprice\"\n",
    "print(list(df['price']).count('noprice'))"
   ]
  },
  {
   "cell_type": "code",
   "execution_count": 18,
   "metadata": {},
   "outputs": [
    {
     "data": {
      "text/plain": [
       "299000           591\n",
       "295000           519\n",
       "395000           484\n",
       "399000           484\n",
       "249000           476\n",
       "                ... \n",
       "473956             1\n",
       "712086             1\n",
       "388208             1\n",
       "390000-390000      1\n",
       "663800             1\n",
       "Name: price, Length: 4371, dtype: int64"
      ]
     },
     "execution_count": 18,
     "metadata": {},
     "output_type": "execute_result"
    }
   ],
   "source": [
    "df['price'].value_counts()"
   ]
  },
  {
   "cell_type": "code",
   "execution_count": 19,
   "metadata": {},
   "outputs": [
    {
     "data": {
      "text/plain": [
       "id                     float64\n",
       "type                    object\n",
       "subtype                 object\n",
       "price                   object\n",
       "zip                    float64\n",
       "kitchen_type            object\n",
       "building_condition      object\n",
       "energy_heatingType      object\n",
       "bedroom_count          float64\n",
       "land_surface           float64\n",
       "Province                object\n",
       "Living area             object\n",
       "Living room surface     object\n",
       "Kitchen type            object\n",
       "Kitchen surface         object\n",
       "Bathrooms              float64\n",
       "Toilets                float64\n",
       "Basement                object\n",
       "Furnished               object\n",
       "Surface of the plot     object\n",
       "Garden                  object\n",
       "Terrace surface         object\n",
       "dtype: object"
      ]
     },
     "execution_count": 19,
     "metadata": {},
     "output_type": "execute_result"
    }
   ],
   "source": [
    "df.dtypes"
   ]
  },
  {
   "cell_type": "code",
   "execution_count": 20,
   "metadata": {},
   "outputs": [
    {
     "data": {
      "text/html": [
       "<div>\n",
       "<style scoped>\n",
       "    .dataframe tbody tr th:only-of-type {\n",
       "        vertical-align: middle;\n",
       "    }\n",
       "\n",
       "    .dataframe tbody tr th {\n",
       "        vertical-align: top;\n",
       "    }\n",
       "\n",
       "    .dataframe thead th {\n",
       "        text-align: right;\n",
       "    }\n",
       "</style>\n",
       "<table border=\"1\" class=\"dataframe\">\n",
       "  <thead>\n",
       "    <tr style=\"text-align: right;\">\n",
       "      <th></th>\n",
       "      <th>id</th>\n",
       "      <th>type</th>\n",
       "      <th>subtype</th>\n",
       "      <th>price</th>\n",
       "      <th>zip</th>\n",
       "      <th>kitchen_type</th>\n",
       "      <th>building_condition</th>\n",
       "      <th>energy_heatingType</th>\n",
       "      <th>bedroom_count</th>\n",
       "      <th>land_surface</th>\n",
       "      <th>...</th>\n",
       "      <th>Living room surface</th>\n",
       "      <th>Kitchen type</th>\n",
       "      <th>Kitchen surface</th>\n",
       "      <th>Bathrooms</th>\n",
       "      <th>Toilets</th>\n",
       "      <th>Basement</th>\n",
       "      <th>Furnished</th>\n",
       "      <th>Surface of the plot</th>\n",
       "      <th>Garden</th>\n",
       "      <th>Terrace surface</th>\n",
       "    </tr>\n",
       "  </thead>\n",
       "  <tbody>\n",
       "    <tr>\n",
       "      <th>0</th>\n",
       "      <td>10165619.0</td>\n",
       "      <td>house</td>\n",
       "      <td>house</td>\n",
       "      <td>464000</td>\n",
       "      <td>2890.0</td>\n",
       "      <td>hyperequipped</td>\n",
       "      <td>good</td>\n",
       "      <td>gas</td>\n",
       "      <td>5.0</td>\n",
       "      <td>460.0</td>\n",
       "      <td>...</td>\n",
       "      <td>42m²square meters</td>\n",
       "      <td>Hyper equipped</td>\n",
       "      <td>14m²square meters</td>\n",
       "      <td>2.0</td>\n",
       "      <td>2.0</td>\n",
       "      <td>Yes</td>\n",
       "      <td>No</td>\n",
       "      <td>460m²square meters</td>\n",
       "      <td>Yes</td>\n",
       "      <td>30m²square meters</td>\n",
       "    </tr>\n",
       "    <tr>\n",
       "      <th>1</th>\n",
       "      <td>9920179.0</td>\n",
       "      <td>house</td>\n",
       "      <td>mixedusebuilding</td>\n",
       "      <td>295000</td>\n",
       "      <td>2830.0</td>\n",
       "      <td>semiequipped</td>\n",
       "      <td>torenovate</td>\n",
       "      <td>gas</td>\n",
       "      <td>4.0</td>\n",
       "      <td>350.0</td>\n",
       "      <td>...</td>\n",
       "      <td>30m²square meters</td>\n",
       "      <td>Semi equipped</td>\n",
       "      <td>8m²square meters</td>\n",
       "      <td>2.0</td>\n",
       "      <td>2.0</td>\n",
       "      <td>NaN</td>\n",
       "      <td>No</td>\n",
       "      <td>350m²square meters</td>\n",
       "      <td>NaN</td>\n",
       "      <td>NaN</td>\n",
       "    </tr>\n",
       "    <tr>\n",
       "      <th>2</th>\n",
       "      <td>10153226.0</td>\n",
       "      <td>housegroup</td>\n",
       "      <td>housegroup</td>\n",
       "      <td>485000-485000</td>\n",
       "      <td>2275.0</td>\n",
       "      <td>NaN</td>\n",
       "      <td>NaN</td>\n",
       "      <td>NaN</td>\n",
       "      <td>NaN</td>\n",
       "      <td>NaN</td>\n",
       "      <td>...</td>\n",
       "      <td>NaN</td>\n",
       "      <td>NaN</td>\n",
       "      <td>NaN</td>\n",
       "      <td>NaN</td>\n",
       "      <td>NaN</td>\n",
       "      <td>NaN</td>\n",
       "      <td>NaN</td>\n",
       "      <td>NaN</td>\n",
       "      <td>NaN</td>\n",
       "      <td>NaN</td>\n",
       "    </tr>\n",
       "    <tr>\n",
       "      <th>3</th>\n",
       "      <td>10138007.0</td>\n",
       "      <td>housegroup</td>\n",
       "      <td>housegroup</td>\n",
       "      <td>340980-340980</td>\n",
       "      <td>2430.0</td>\n",
       "      <td>NaN</td>\n",
       "      <td>NaN</td>\n",
       "      <td>NaN</td>\n",
       "      <td>NaN</td>\n",
       "      <td>NaN</td>\n",
       "      <td>...</td>\n",
       "      <td>NaN</td>\n",
       "      <td>NaN</td>\n",
       "      <td>NaN</td>\n",
       "      <td>NaN</td>\n",
       "      <td>NaN</td>\n",
       "      <td>NaN</td>\n",
       "      <td>NaN</td>\n",
       "      <td>NaN</td>\n",
       "      <td>NaN</td>\n",
       "      <td>NaN</td>\n",
       "    </tr>\n",
       "    <tr>\n",
       "      <th>4</th>\n",
       "      <td>10067876.0</td>\n",
       "      <td>housegroup</td>\n",
       "      <td>housegroup</td>\n",
       "      <td>342500-342500</td>\n",
       "      <td>2250.0</td>\n",
       "      <td>NaN</td>\n",
       "      <td>NaN</td>\n",
       "      <td>NaN</td>\n",
       "      <td>NaN</td>\n",
       "      <td>NaN</td>\n",
       "      <td>...</td>\n",
       "      <td>NaN</td>\n",
       "      <td>NaN</td>\n",
       "      <td>NaN</td>\n",
       "      <td>NaN</td>\n",
       "      <td>NaN</td>\n",
       "      <td>NaN</td>\n",
       "      <td>NaN</td>\n",
       "      <td>NaN</td>\n",
       "      <td>NaN</td>\n",
       "      <td>NaN</td>\n",
       "    </tr>\n",
       "  </tbody>\n",
       "</table>\n",
       "<p>5 rows × 22 columns</p>\n",
       "</div>"
      ],
      "text/plain": [
       "           id        type           subtype          price     zip  \\\n",
       "0  10165619.0       house             house         464000  2890.0   \n",
       "1   9920179.0       house  mixedusebuilding         295000  2830.0   \n",
       "2  10153226.0  housegroup        housegroup  485000-485000  2275.0   \n",
       "3  10138007.0  housegroup        housegroup  340980-340980  2430.0   \n",
       "4  10067876.0  housegroup        housegroup  342500-342500  2250.0   \n",
       "\n",
       "    kitchen_type building_condition energy_heatingType  bedroom_count  \\\n",
       "0  hyperequipped               good                gas            5.0   \n",
       "1   semiequipped         torenovate                gas            4.0   \n",
       "2            NaN                NaN                NaN            NaN   \n",
       "3            NaN                NaN                NaN            NaN   \n",
       "4            NaN                NaN                NaN            NaN   \n",
       "\n",
       "   land_surface  ... Living room surface    Kitchen type    Kitchen surface  \\\n",
       "0         460.0  ...   42m²square meters  Hyper equipped  14m²square meters   \n",
       "1         350.0  ...   30m²square meters   Semi equipped   8m²square meters   \n",
       "2           NaN  ...                 NaN             NaN                NaN   \n",
       "3           NaN  ...                 NaN             NaN                NaN   \n",
       "4           NaN  ...                 NaN             NaN                NaN   \n",
       "\n",
       "  Bathrooms Toilets  Basement  Furnished Surface of the plot Garden  \\\n",
       "0       2.0     2.0       Yes         No  460m²square meters    Yes   \n",
       "1       2.0     2.0       NaN         No  350m²square meters    NaN   \n",
       "2       NaN     NaN       NaN        NaN                 NaN    NaN   \n",
       "3       NaN     NaN       NaN        NaN                 NaN    NaN   \n",
       "4       NaN     NaN       NaN        NaN                 NaN    NaN   \n",
       "\n",
       "     Terrace surface  \n",
       "0  30m²square meters  \n",
       "1                NaN  \n",
       "2                NaN  \n",
       "3                NaN  \n",
       "4                NaN  \n",
       "\n",
       "[5 rows x 22 columns]"
      ]
     },
     "execution_count": 20,
     "metadata": {},
     "output_type": "execute_result"
    }
   ],
   "source": [
    "df.head()"
   ]
  },
  {
   "cell_type": "code",
   "execution_count": 21,
   "metadata": {},
   "outputs": [
    {
     "name": "stdout",
     "output_type": "stream",
     "text": [
      "['good' 'torenovate' nan 'asnew' 'justrenovated' 'tobedoneup' 'torestore']\n"
     ]
    }
   ],
   "source": [
    "print(df[\"building_condition\"].unique())"
   ]
  },
  {
   "cell_type": "code",
   "execution_count": 22,
   "metadata": {},
   "outputs": [
    {
     "name": "stdout",
     "output_type": "stream",
     "text": [
      "['house' 'mixedusebuilding' 'housegroup' 'villa' 'townhouse' 'castle'\n",
      " 'mansion' 'exceptionalproperty' 'apartmentblock' 'countrycottage'\n",
      " 'manorhouse' 'bungalow' 'chalet' 'farmhouse' 'otherproperty' 'pavilion']\n"
     ]
    }
   ],
   "source": [
    "print(df[\"subtype\"].unique())"
   ]
  },
  {
   "cell_type": "code",
   "execution_count": 23,
   "metadata": {},
   "outputs": [
    {
     "name": "stdout",
     "output_type": "stream",
     "text": [
      "['Antwerp' 'Belgian Luxembourg' 'Brussels' 'East Falnders'\n",
      " 'Flemish Brabant' 'Hainaut' 'Liege' 'Limburg' 'Namur' 'Waloon Brabant'\n",
      " 'West Flanders']\n"
     ]
    }
   ],
   "source": [
    "print(df[\"Province\"].unique())"
   ]
  },
  {
   "cell_type": "code",
   "execution_count": 24,
   "metadata": {},
   "outputs": [
    {
     "data": {
      "text/plain": [
       "(39554, 22)"
      ]
     },
     "execution_count": 24,
     "metadata": {},
     "output_type": "execute_result"
    }
   ],
   "source": [
    "df.shape"
   ]
  },
  {
   "cell_type": "code",
   "execution_count": 25,
   "metadata": {},
   "outputs": [
    {
     "data": {
      "text/plain": [
       "(38649, 22)"
      ]
     },
     "execution_count": 25,
     "metadata": {},
     "output_type": "execute_result"
    }
   ],
   "source": [
    "# removing range of prices\n",
    "df = df.loc[df['type'] != 'housegroup']\n",
    "df = df.loc[df[\"subtype\"] != 'housegroup']\n",
    "df.shape"
   ]
  },
  {
   "cell_type": "code",
   "execution_count": 26,
   "metadata": {},
   "outputs": [
    {
     "name": "stdout",
     "output_type": "stream",
     "text": [
      "['house']\n",
      "['house' 'mixedusebuilding' 'villa' 'townhouse' 'castle' 'mansion'\n",
      " 'exceptionalproperty' 'apartmentblock' 'countrycottage' 'manorhouse'\n",
      " 'bungalow' 'chalet' 'farmhouse' 'otherproperty' 'pavilion']\n"
     ]
    }
   ],
   "source": [
    "print(df[\"type\"].unique())\n",
    "print(df[\"subtype\"].unique())\n"
   ]
  },
  {
   "cell_type": "code",
   "execution_count": 27,
   "metadata": {},
   "outputs": [
    {
     "data": {
      "text/plain": [
       "id                      0.000000\n",
       "type                    0.000000\n",
       "subtype                 0.000000\n",
       "price                   0.000000\n",
       "zip                     0.000000\n",
       "kitchen_type           39.025589\n",
       "building_condition     28.197366\n",
       "energy_heatingType     32.769283\n",
       "bedroom_count           0.000000\n",
       "land_surface            0.000000\n",
       "Province                0.000000\n",
       "Living area            21.392533\n",
       "Living room surface    58.635411\n",
       "Kitchen type           39.025589\n",
       "Kitchen surface        62.692437\n",
       "Bathrooms              17.884033\n",
       "Toilets                29.708401\n",
       "Basement               65.191855\n",
       "Furnished              35.517090\n",
       "Surface of the plot    13.400088\n",
       "Garden                 84.429093\n",
       "Terrace surface        73.163601\n",
       "dtype: float64"
      ]
     },
     "execution_count": 27,
     "metadata": {},
     "output_type": "execute_result"
    }
   ],
   "source": [
    "# Percentage of missing values for every column\n",
    "percent_missing = df.isnull().sum() * 100 / len(df)\n",
    "percent_missing"
   ]
  },
  {
   "cell_type": "code",
   "execution_count": 28,
   "metadata": {},
   "outputs": [
    {
     "data": {
      "text/plain": [
       "id                     38649\n",
       "type                       1\n",
       "subtype                   15\n",
       "price                   3553\n",
       "zip                     1078\n",
       "kitchen_type               8\n",
       "building_condition         6\n",
       "energy_heatingType         7\n",
       "bedroom_count             47\n",
       "land_surface            3930\n",
       "Province                  11\n",
       "Living area              892\n",
       "Living room surface      147\n",
       "Kitchen type               8\n",
       "Kitchen surface          106\n",
       "Bathrooms                 29\n",
       "Toilets                   25\n",
       "Basement                   1\n",
       "Furnished                  2\n",
       "Surface of the plot     3929\n",
       "Garden                     1\n",
       "Terrace surface          192\n",
       "dtype: int64"
      ]
     },
     "execution_count": 28,
     "metadata": {},
     "output_type": "execute_result"
    }
   ],
   "source": [
    "df.nunique()"
   ]
  },
  {
   "cell_type": "code",
   "execution_count": 29,
   "metadata": {},
   "outputs": [
    {
     "data": {
      "text/html": [
       "<div>\n",
       "<style scoped>\n",
       "    .dataframe tbody tr th:only-of-type {\n",
       "        vertical-align: middle;\n",
       "    }\n",
       "\n",
       "    .dataframe tbody tr th {\n",
       "        vertical-align: top;\n",
       "    }\n",
       "\n",
       "    .dataframe thead th {\n",
       "        text-align: right;\n",
       "    }\n",
       "</style>\n",
       "<table border=\"1\" class=\"dataframe\">\n",
       "  <thead>\n",
       "    <tr style=\"text-align: right;\">\n",
       "      <th></th>\n",
       "      <th>id</th>\n",
       "      <th>zip</th>\n",
       "      <th>bedroom_count</th>\n",
       "      <th>land_surface</th>\n",
       "      <th>Bathrooms</th>\n",
       "      <th>Toilets</th>\n",
       "    </tr>\n",
       "  </thead>\n",
       "  <tbody>\n",
       "    <tr>\n",
       "      <th>count</th>\n",
       "      <td>3.864900e+04</td>\n",
       "      <td>38649.000000</td>\n",
       "      <td>38649.000000</td>\n",
       "      <td>3.864900e+04</td>\n",
       "      <td>31737.000000</td>\n",
       "      <td>27167.000000</td>\n",
       "    </tr>\n",
       "    <tr>\n",
       "      <th>mean</th>\n",
       "      <td>1.000736e+07</td>\n",
       "      <td>5374.227018</td>\n",
       "      <td>3.629900</td>\n",
       "      <td>1.391077e+03</td>\n",
       "      <td>1.508744</td>\n",
       "      <td>2.062245</td>\n",
       "    </tr>\n",
       "    <tr>\n",
       "      <th>std</th>\n",
       "      <td>2.428166e+05</td>\n",
       "      <td>2871.099139</td>\n",
       "      <td>14.298415</td>\n",
       "      <td>1.590421e+04</td>\n",
       "      <td>1.300654</td>\n",
       "      <td>1.302252</td>\n",
       "    </tr>\n",
       "    <tr>\n",
       "      <th>min</th>\n",
       "      <td>1.882546e+06</td>\n",
       "      <td>1000.000000</td>\n",
       "      <td>0.000000</td>\n",
       "      <td>0.000000e+00</td>\n",
       "      <td>1.000000</td>\n",
       "      <td>1.000000</td>\n",
       "    </tr>\n",
       "    <tr>\n",
       "      <th>25%</th>\n",
       "      <td>9.976375e+06</td>\n",
       "      <td>2650.000000</td>\n",
       "      <td>3.000000</td>\n",
       "      <td>1.360000e+02</td>\n",
       "      <td>1.000000</td>\n",
       "      <td>1.000000</td>\n",
       "    </tr>\n",
       "    <tr>\n",
       "      <th>50%</th>\n",
       "      <td>1.007917e+07</td>\n",
       "      <td>5100.000000</td>\n",
       "      <td>3.000000</td>\n",
       "      <td>3.530000e+02</td>\n",
       "      <td>1.000000</td>\n",
       "      <td>2.000000</td>\n",
       "    </tr>\n",
       "    <tr>\n",
       "      <th>75%</th>\n",
       "      <td>1.013078e+07</td>\n",
       "      <td>8310.000000</td>\n",
       "      <td>4.000000</td>\n",
       "      <td>8.500000e+02</td>\n",
       "      <td>2.000000</td>\n",
       "      <td>2.000000</td>\n",
       "    </tr>\n",
       "    <tr>\n",
       "      <th>max</th>\n",
       "      <td>1.016721e+07</td>\n",
       "      <td>9992.000000</td>\n",
       "      <td>2020.000000</td>\n",
       "      <td>2.400000e+06</td>\n",
       "      <td>76.000000</td>\n",
       "      <td>40.000000</td>\n",
       "    </tr>\n",
       "  </tbody>\n",
       "</table>\n",
       "</div>"
      ],
      "text/plain": [
       "                 id           zip  bedroom_count  land_surface     Bathrooms  \\\n",
       "count  3.864900e+04  38649.000000   38649.000000  3.864900e+04  31737.000000   \n",
       "mean   1.000736e+07   5374.227018       3.629900  1.391077e+03      1.508744   \n",
       "std    2.428166e+05   2871.099139      14.298415  1.590421e+04      1.300654   \n",
       "min    1.882546e+06   1000.000000       0.000000  0.000000e+00      1.000000   \n",
       "25%    9.976375e+06   2650.000000       3.000000  1.360000e+02      1.000000   \n",
       "50%    1.007917e+07   5100.000000       3.000000  3.530000e+02      1.000000   \n",
       "75%    1.013078e+07   8310.000000       4.000000  8.500000e+02      2.000000   \n",
       "max    1.016721e+07   9992.000000    2020.000000  2.400000e+06     76.000000   \n",
       "\n",
       "            Toilets  \n",
       "count  27167.000000  \n",
       "mean       2.062245  \n",
       "std        1.302252  \n",
       "min        1.000000  \n",
       "25%        1.000000  \n",
       "50%        2.000000  \n",
       "75%        2.000000  \n",
       "max       40.000000  "
      ]
     },
     "execution_count": 29,
     "metadata": {},
     "output_type": "execute_result"
    }
   ],
   "source": [
    "df.describe()"
   ]
  },
  {
   "cell_type": "code",
   "execution_count": 30,
   "metadata": {},
   "outputs": [
    {
     "data": {
      "text/plain": [
       "count      38649\n",
       "unique      3553\n",
       "top       299000\n",
       "freq         591\n",
       "Name: price, dtype: object"
      ]
     },
     "execution_count": 30,
     "metadata": {},
     "output_type": "execute_result"
    }
   ],
   "source": [
    "df['price'].describe()"
   ]
  },
  {
   "cell_type": "code",
   "execution_count": 31,
   "metadata": {},
   "outputs": [],
   "source": [
    "\n",
    "df[\"price\"] = df[\"price\"].astype('int')\n",
    "# df['postalCode'] = df['postalCode'].astype('int')\n",
    "# df['roomCount'] = df[ 'roomCount'].astype('int')\n",
    "# df['bedroomCount'] = df[ 'bedroomCount'].astype('int')\n",
    "# df['bathroomCount'] = df[ 'bathroomCount'].astype('int')\n",
    "# print(df[\"Garden\"].unique())\n",
    "df.fillna('no', inplace=True)\n",
    "#df[\"Garden\"].fillna(0, inplace=True)\n",
    "df[\"Garden\"].replace({'Yes': 1,\"no\":0}, inplace=True)\n",
    "\n"
   ]
  },
  {
   "cell_type": "code",
   "execution_count": 32,
   "metadata": {},
   "outputs": [
    {
     "name": "stdout",
     "output_type": "stream",
     "text": [
      "[1 0]\n"
     ]
    }
   ],
   "source": [
    "print(df[\"Garden\"].unique())"
   ]
  },
  {
   "cell_type": "code",
   "execution_count": 33,
   "metadata": {},
   "outputs": [
    {
     "data": {
      "text/html": [
       "<div>\n",
       "<style scoped>\n",
       "    .dataframe tbody tr th:only-of-type {\n",
       "        vertical-align: middle;\n",
       "    }\n",
       "\n",
       "    .dataframe tbody tr th {\n",
       "        vertical-align: top;\n",
       "    }\n",
       "\n",
       "    .dataframe thead th {\n",
       "        text-align: right;\n",
       "    }\n",
       "</style>\n",
       "<table border=\"1\" class=\"dataframe\">\n",
       "  <thead>\n",
       "    <tr style=\"text-align: right;\">\n",
       "      <th></th>\n",
       "      <th>id</th>\n",
       "      <th>type</th>\n",
       "      <th>subtype</th>\n",
       "      <th>price</th>\n",
       "      <th>zip</th>\n",
       "      <th>kitchen_type</th>\n",
       "      <th>building_condition</th>\n",
       "      <th>energy_heatingType</th>\n",
       "      <th>bedroom_count</th>\n",
       "      <th>land_surface</th>\n",
       "      <th>...</th>\n",
       "      <th>Living room surface</th>\n",
       "      <th>Kitchen type</th>\n",
       "      <th>Kitchen surface</th>\n",
       "      <th>Bathrooms</th>\n",
       "      <th>Toilets</th>\n",
       "      <th>Basement</th>\n",
       "      <th>Furnished</th>\n",
       "      <th>Surface of the plot</th>\n",
       "      <th>Garden</th>\n",
       "      <th>Terrace surface</th>\n",
       "    </tr>\n",
       "  </thead>\n",
       "  <tbody>\n",
       "    <tr>\n",
       "      <th>0</th>\n",
       "      <td>10165619.0</td>\n",
       "      <td>house</td>\n",
       "      <td>house</td>\n",
       "      <td>464000</td>\n",
       "      <td>2890.0</td>\n",
       "      <td>hyperequipped</td>\n",
       "      <td>good</td>\n",
       "      <td>gas</td>\n",
       "      <td>5.0</td>\n",
       "      <td>460.0</td>\n",
       "      <td>...</td>\n",
       "      <td>42.0</td>\n",
       "      <td>Hyper equipped</td>\n",
       "      <td>14.0</td>\n",
       "      <td>2.0</td>\n",
       "      <td>2.0</td>\n",
       "      <td>Yes</td>\n",
       "      <td>No</td>\n",
       "      <td>460.0</td>\n",
       "      <td>1</td>\n",
       "      <td>30.0</td>\n",
       "    </tr>\n",
       "    <tr>\n",
       "      <th>1</th>\n",
       "      <td>9920179.0</td>\n",
       "      <td>house</td>\n",
       "      <td>mixedusebuilding</td>\n",
       "      <td>295000</td>\n",
       "      <td>2830.0</td>\n",
       "      <td>semiequipped</td>\n",
       "      <td>torenovate</td>\n",
       "      <td>gas</td>\n",
       "      <td>4.0</td>\n",
       "      <td>350.0</td>\n",
       "      <td>...</td>\n",
       "      <td>30.0</td>\n",
       "      <td>Semi equipped</td>\n",
       "      <td>8.0</td>\n",
       "      <td>2.0</td>\n",
       "      <td>2.0</td>\n",
       "      <td>no</td>\n",
       "      <td>No</td>\n",
       "      <td>350.0</td>\n",
       "      <td>0</td>\n",
       "      <td>NaN</td>\n",
       "    </tr>\n",
       "    <tr>\n",
       "      <th>19</th>\n",
       "      <td>10058734.0</td>\n",
       "      <td>house</td>\n",
       "      <td>villa</td>\n",
       "      <td>699500</td>\n",
       "      <td>2550.0</td>\n",
       "      <td>installed</td>\n",
       "      <td>asnew</td>\n",
       "      <td>gas</td>\n",
       "      <td>3.0</td>\n",
       "      <td>799.0</td>\n",
       "      <td>...</td>\n",
       "      <td>NaN</td>\n",
       "      <td>Installed</td>\n",
       "      <td>15.0</td>\n",
       "      <td>2.0</td>\n",
       "      <td>2.0</td>\n",
       "      <td>no</td>\n",
       "      <td>no</td>\n",
       "      <td>799.0</td>\n",
       "      <td>0</td>\n",
       "      <td>8.0</td>\n",
       "    </tr>\n",
       "    <tr>\n",
       "      <th>20</th>\n",
       "      <td>10156828.0</td>\n",
       "      <td>house</td>\n",
       "      <td>villa</td>\n",
       "      <td>629900</td>\n",
       "      <td>2390.0</td>\n",
       "      <td>installed</td>\n",
       "      <td>good</td>\n",
       "      <td>gas</td>\n",
       "      <td>4.0</td>\n",
       "      <td>1349.0</td>\n",
       "      <td>...</td>\n",
       "      <td>56.0</td>\n",
       "      <td>Installed</td>\n",
       "      <td>20.0</td>\n",
       "      <td>2.0</td>\n",
       "      <td>3.0</td>\n",
       "      <td>no</td>\n",
       "      <td>No</td>\n",
       "      <td>1349.0</td>\n",
       "      <td>0</td>\n",
       "      <td>NaN</td>\n",
       "    </tr>\n",
       "    <tr>\n",
       "      <th>21</th>\n",
       "      <td>10110568.0</td>\n",
       "      <td>house</td>\n",
       "      <td>villa</td>\n",
       "      <td>3250000</td>\n",
       "      <td>2930.0</td>\n",
       "      <td>hyperequipped</td>\n",
       "      <td>good</td>\n",
       "      <td>gas</td>\n",
       "      <td>5.0</td>\n",
       "      <td>10431.0</td>\n",
       "      <td>...</td>\n",
       "      <td>56.0</td>\n",
       "      <td>Hyper equipped</td>\n",
       "      <td>41.0</td>\n",
       "      <td>4.0</td>\n",
       "      <td>4.0</td>\n",
       "      <td>Yes</td>\n",
       "      <td>Yes</td>\n",
       "      <td>10431.0</td>\n",
       "      <td>0</td>\n",
       "      <td>396.0</td>\n",
       "    </tr>\n",
       "    <tr>\n",
       "      <th>...</th>\n",
       "      <td>...</td>\n",
       "      <td>...</td>\n",
       "      <td>...</td>\n",
       "      <td>...</td>\n",
       "      <td>...</td>\n",
       "      <td>...</td>\n",
       "      <td>...</td>\n",
       "      <td>...</td>\n",
       "      <td>...</td>\n",
       "      <td>...</td>\n",
       "      <td>...</td>\n",
       "      <td>...</td>\n",
       "      <td>...</td>\n",
       "      <td>...</td>\n",
       "      <td>...</td>\n",
       "      <td>...</td>\n",
       "      <td>...</td>\n",
       "      <td>...</td>\n",
       "      <td>...</td>\n",
       "      <td>...</td>\n",
       "      <td>...</td>\n",
       "    </tr>\n",
       "    <tr>\n",
       "      <th>39568</th>\n",
       "      <td>9676281.0</td>\n",
       "      <td>house</td>\n",
       "      <td>house</td>\n",
       "      <td>188900</td>\n",
       "      <td>8930.0</td>\n",
       "      <td>no</td>\n",
       "      <td>torenovate</td>\n",
       "      <td>no</td>\n",
       "      <td>5.0</td>\n",
       "      <td>355.0</td>\n",
       "      <td>...</td>\n",
       "      <td>NaN</td>\n",
       "      <td>no</td>\n",
       "      <td>NaN</td>\n",
       "      <td>no</td>\n",
       "      <td>no</td>\n",
       "      <td>no</td>\n",
       "      <td>no</td>\n",
       "      <td>355.0</td>\n",
       "      <td>0</td>\n",
       "      <td>NaN</td>\n",
       "    </tr>\n",
       "    <tr>\n",
       "      <th>39569</th>\n",
       "      <td>10143880.0</td>\n",
       "      <td>house</td>\n",
       "      <td>house</td>\n",
       "      <td>111111</td>\n",
       "      <td>8970.0</td>\n",
       "      <td>no</td>\n",
       "      <td>good</td>\n",
       "      <td>no</td>\n",
       "      <td>6.0</td>\n",
       "      <td>348.0</td>\n",
       "      <td>...</td>\n",
       "      <td>NaN</td>\n",
       "      <td>no</td>\n",
       "      <td>NaN</td>\n",
       "      <td>no</td>\n",
       "      <td>no</td>\n",
       "      <td>no</td>\n",
       "      <td>No</td>\n",
       "      <td>348.0</td>\n",
       "      <td>0</td>\n",
       "      <td>NaN</td>\n",
       "    </tr>\n",
       "    <tr>\n",
       "      <th>39570</th>\n",
       "      <td>10032255.0</td>\n",
       "      <td>house</td>\n",
       "      <td>house</td>\n",
       "      <td>450000</td>\n",
       "      <td>8660.0</td>\n",
       "      <td>no</td>\n",
       "      <td>no</td>\n",
       "      <td>no</td>\n",
       "      <td>9.0</td>\n",
       "      <td>0.0</td>\n",
       "      <td>...</td>\n",
       "      <td>NaN</td>\n",
       "      <td>no</td>\n",
       "      <td>NaN</td>\n",
       "      <td>no</td>\n",
       "      <td>no</td>\n",
       "      <td>no</td>\n",
       "      <td>no</td>\n",
       "      <td>NaN</td>\n",
       "      <td>0</td>\n",
       "      <td>NaN</td>\n",
       "    </tr>\n",
       "    <tr>\n",
       "      <th>39571</th>\n",
       "      <td>7339903.0</td>\n",
       "      <td>house</td>\n",
       "      <td>house</td>\n",
       "      <td>150000</td>\n",
       "      <td>8501.0</td>\n",
       "      <td>no</td>\n",
       "      <td>no</td>\n",
       "      <td>no</td>\n",
       "      <td>0.0</td>\n",
       "      <td>0.0</td>\n",
       "      <td>...</td>\n",
       "      <td>NaN</td>\n",
       "      <td>no</td>\n",
       "      <td>NaN</td>\n",
       "      <td>no</td>\n",
       "      <td>no</td>\n",
       "      <td>no</td>\n",
       "      <td>no</td>\n",
       "      <td>NaN</td>\n",
       "      <td>0</td>\n",
       "      <td>NaN</td>\n",
       "    </tr>\n",
       "    <tr>\n",
       "      <th>39572</th>\n",
       "      <td>8996852.0</td>\n",
       "      <td>house</td>\n",
       "      <td>villa</td>\n",
       "      <td>663800</td>\n",
       "      <td>8750.0</td>\n",
       "      <td>no</td>\n",
       "      <td>no</td>\n",
       "      <td>no</td>\n",
       "      <td>3.0</td>\n",
       "      <td>173.0</td>\n",
       "      <td>...</td>\n",
       "      <td>NaN</td>\n",
       "      <td>no</td>\n",
       "      <td>NaN</td>\n",
       "      <td>no</td>\n",
       "      <td>no</td>\n",
       "      <td>no</td>\n",
       "      <td>no</td>\n",
       "      <td>173.0</td>\n",
       "      <td>0</td>\n",
       "      <td>NaN</td>\n",
       "    </tr>\n",
       "  </tbody>\n",
       "</table>\n",
       "<p>38649 rows × 22 columns</p>\n",
       "</div>"
      ],
      "text/plain": [
       "               id   type           subtype    price     zip   kitchen_type  \\\n",
       "0      10165619.0  house             house   464000  2890.0  hyperequipped   \n",
       "1       9920179.0  house  mixedusebuilding   295000  2830.0   semiequipped   \n",
       "19     10058734.0  house             villa   699500  2550.0      installed   \n",
       "20     10156828.0  house             villa   629900  2390.0      installed   \n",
       "21     10110568.0  house             villa  3250000  2930.0  hyperequipped   \n",
       "...           ...    ...               ...      ...     ...            ...   \n",
       "39568   9676281.0  house             house   188900  8930.0             no   \n",
       "39569  10143880.0  house             house   111111  8970.0             no   \n",
       "39570  10032255.0  house             house   450000  8660.0             no   \n",
       "39571   7339903.0  house             house   150000  8501.0             no   \n",
       "39572   8996852.0  house             villa   663800  8750.0             no   \n",
       "\n",
       "      building_condition energy_heatingType  bedroom_count  land_surface  ...  \\\n",
       "0                   good                gas            5.0         460.0  ...   \n",
       "1             torenovate                gas            4.0         350.0  ...   \n",
       "19                 asnew                gas            3.0         799.0  ...   \n",
       "20                  good                gas            4.0        1349.0  ...   \n",
       "21                  good                gas            5.0       10431.0  ...   \n",
       "...                  ...                ...            ...           ...  ...   \n",
       "39568         torenovate                 no            5.0         355.0  ...   \n",
       "39569               good                 no            6.0         348.0  ...   \n",
       "39570                 no                 no            9.0           0.0  ...   \n",
       "39571                 no                 no            0.0           0.0  ...   \n",
       "39572                 no                 no            3.0         173.0  ...   \n",
       "\n",
       "      Living room surface    Kitchen type  Kitchen surface Bathrooms  Toilets  \\\n",
       "0                    42.0  Hyper equipped             14.0       2.0      2.0   \n",
       "1                    30.0   Semi equipped              8.0       2.0      2.0   \n",
       "19                    NaN       Installed             15.0       2.0      2.0   \n",
       "20                   56.0       Installed             20.0       2.0      3.0   \n",
       "21                   56.0  Hyper equipped             41.0       4.0      4.0   \n",
       "...                   ...             ...              ...       ...      ...   \n",
       "39568                 NaN              no              NaN        no       no   \n",
       "39569                 NaN              no              NaN        no       no   \n",
       "39570                 NaN              no              NaN        no       no   \n",
       "39571                 NaN              no              NaN        no       no   \n",
       "39572                 NaN              no              NaN        no       no   \n",
       "\n",
       "      Basement Furnished Surface of the plot Garden  Terrace surface  \n",
       "0          Yes        No               460.0      1             30.0  \n",
       "1           no        No               350.0      0              NaN  \n",
       "19          no        no               799.0      0              8.0  \n",
       "20          no        No              1349.0      0              NaN  \n",
       "21         Yes       Yes             10431.0      0            396.0  \n",
       "...        ...       ...                 ...    ...              ...  \n",
       "39568       no        no               355.0      0              NaN  \n",
       "39569       no        No               348.0      0              NaN  \n",
       "39570       no        no                 NaN      0              NaN  \n",
       "39571       no        no                 NaN      0              NaN  \n",
       "39572       no        no               173.0      0              NaN  \n",
       "\n",
       "[38649 rows x 22 columns]"
      ]
     },
     "execution_count": 33,
     "metadata": {},
     "output_type": "execute_result"
    }
   ],
   "source": [
    "# extracting float\n",
    "df[\"Living room surface\"] = df[\"Living room surface\"].str.extract('(\\d+)').astype(float)\n",
    "df[\"Kitchen surface\"] = df[\"Kitchen surface\"].str.extract('(\\d+)').astype(float)\n",
    "df[\"Surface of the plot\"] = df[\"Surface of the plot\"].str.extract('(\\d+)').astype(float)\n",
    "df[\"Terrace surface\"] = df[\"Terrace surface\"].str.extract('(\\d+)').astype(float)\n",
    "df[\"Living area\"] = df[\"Living area\"].str.extract('(\\d+)').astype(float)\n",
    "df"
   ]
  },
  {
   "cell_type": "code",
   "execution_count": 34,
   "metadata": {},
   "outputs": [
    {
     "name": "stdout",
     "output_type": "stream",
     "text": [
      "['house' 'mixedusebuilding' 'villa' 'townhouse' 'castle' 'mansion'\n",
      " 'exceptionalproperty' 'apartmentblock' 'countrycottage' 'manorhouse'\n",
      " 'bungalow' 'chalet' 'farmhouse' 'otherproperty' 'pavilion']\n"
     ]
    }
   ],
   "source": [
    "print(df[\"subtype\"].unique())"
   ]
  },
  {
   "cell_type": "code",
   "execution_count": 35,
   "metadata": {},
   "outputs": [],
   "source": [
    "# avg_price=df.groupby(\"Province\")['price'].mean()\n",
    "avg_price = df.groupby(\"Province\")['price'].agg(np.mean)\n",
    "avg_price\n",
    "df.to_csv(\"data_ml.csv\")"
   ]
  },
  {
   "cell_type": "code",
   "execution_count": 48,
   "metadata": {},
   "outputs": [],
   "source": [
    "import matplotlib.pyplot as plt\n",
    "import seaborn as sns"
   ]
  },
  {
   "cell_type": "code",
   "execution_count": 49,
   "metadata": {},
   "outputs": [
    {
     "data": {
      "text/plain": [
       "<seaborn.axisgrid.FacetGrid at 0x1eba3222080>"
      ]
     },
     "execution_count": 49,
     "metadata": {},
     "output_type": "execute_result"
    },
    {
     "data": {
      "image/png": "[encoded data removed]",
      "text/plain": [
       "<Figure size 1200x600 with 1 Axes>"
      ]
     },
     "metadata": {},
     "output_type": "display_data"
    }
   ],
   "source": [
    "med_price = df.groupby(\"Province\")['price'].median().sort_values(ascending=False).index.values\n",
    "\n",
    "#import matplotlib.pylab as plt\n",
    "#plot_order = avg_price.groupby('price')[\"Province\"].sum().sort_values(ascending=False).index.values\n",
    "\n",
    "plot = sns.catplot( data= df, y='price',  x=\"Province\",kind='bar',errorbar=None, legend_out=False,\n",
    "order= med_price,estimator=\"median\", height=6, aspect=2)\n",
    "plt.title(\"House price in different provinces of belgium\", weight='bold').set_fontsize('18')\n",
    "plt.xlabel('Provinces', fontsize=15)\n",
    "plt.ylabel('Price in Euro', fontsize=15)\n",
    "plt.xticks(rotation=65)\n",
    "plot\n",
    "\n",
    "\n"
   ]
  },
  {
   "cell_type": "code",
   "execution_count": 50,
   "metadata": {},
   "outputs": [
    {
     "data": {
      "text/plain": [
       "<seaborn.axisgrid.FacetGrid at 0x1eba3221a20>"
      ]
     },
     "execution_count": 50,
     "metadata": {},
     "output_type": "execute_result"
    },
    {
     "data": {
      "image/png": "[encoded data removed]",
      "text/plain": [
       "<Figure size 1200x600 with 1 Axes>"
      ]
     },
     "metadata": {},
     "output_type": "display_data"
    }
   ],
   "source": [
    "#sns.barplot(data=df, y=\"subtype\",x ='price',estimator=\"median\",errorbar=None)\n",
    "med_price = df.groupby(\"subtype\")['price'].median().sort_values(ascending=False).index.values\n",
    "plot = sns.catplot( data= df, x=\"subtype\",  y='price',kind='bar',errorbar=None, legend_out=False,\n",
    "order= med_price,estimator=\"median\", height=6, aspect=2)\n",
    "plt.title(\"Subtypes of residence price comperison in belgium\", weight='bold').set_fontsize('18')\n",
    "plt.xlabel('Types of residence', fontsize=15)\n",
    "plt.ylabel('Price in Euro', fontsize=15)\n",
    "plt.xticks(rotation=65)\n",
    "plot\n"
   ]
  },
  {
   "cell_type": "code",
   "execution_count": 51,
   "metadata": {},
   "outputs": [
    {
     "data": {
      "text/plain": [
       "id\n",
       "1882546.0      97410.0\n",
       "2784938.0     101900.0\n",
       "4679861.0     330000.0\n",
       "5368748.0      90000.0\n",
       "5650273.0     535000.0\n",
       "                ...   \n",
       "10167180.0    299000.0\n",
       "10167188.0    239500.0\n",
       "10167194.0    235000.0\n",
       "10167201.0    219500.0\n",
       "10167209.0    365000.0\n",
       "Name: price, Length: 38649, dtype: float64"
      ]
     },
     "execution_count": 51,
     "metadata": {},
     "output_type": "execute_result"
    }
   ],
   "source": [
    "df.groupby(\"id\")['price'].mean()"
   ]
  },
  {
   "cell_type": "code",
   "execution_count": 52,
   "metadata": {},
   "outputs": [
    {
     "data": {
      "text/plain": [
       "<seaborn.axisgrid.FacetGrid at 0x1ebbb3916c0>"
      ]
     },
     "execution_count": 52,
     "metadata": {},
     "output_type": "execute_result"
    },
    {
     "data": {
      "image/png": "[encoded data removed]",
      "text/plain": [
       "<Figure size 500x500 with 1 Axes>"
      ]
     },
     "metadata": {},
     "output_type": "display_data"
    }
   ],
   "source": [
    "#Boxplot - price\n",
    "df = df[df[\"Living room surface\"] < 500]\n",
    "sns.relplot(data=df,x=\"Living room surface\",y=\"price\",col=\"type\")"
   ]
  }
 ],
 "metadata": {
  "kernelspec": {
   "display_name": "Python 3.10.7 ('immo_env': venv)",
   "language": "python",
   "name": "python3"
  },
  "language_info": {
   "codemirror_mode": {
    "name": "ipython",
    "version": 3
   },
   "file_extension": ".py",
   "mimetype": "text/x-python",
   "name": "python",
   "nbconvert_exporter": "python",
   "pygments_lexer": "ipython3",
   "version": "3.10.7 (tags/v3.10.7:6cc6b13, Sep  5 2022, 14:08:36) [MSC v.1933 64 bit (AMD64)]"
  },
  "orig_nbformat": 4,
  "vscode": {
   "interpreter": {
    "hash": "39207dcba9079740a532b256103a8370ec145a02445b81e3187840b509e005a1"
   }
  }
 },
 "nbformat": 4,
 "nbformat_minor": 2
}
