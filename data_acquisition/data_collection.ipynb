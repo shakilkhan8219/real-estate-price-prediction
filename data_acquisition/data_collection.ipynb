{
 "cells": [
  {
   "cell_type": "markdown",
   "metadata": {},
   "source": [
    "### installing libraries\n",
    "\n",
    "**requests**\n",
    "\n",
    "**beautifulsoup4**"
   ]
  },
  {
   "cell_type": "code",
   "execution_count": null,
   "metadata": {},
   "outputs": [],
   "source": [
    "# Access to the immo website\n",
    "import requests\n",
    "house_url= \"https://www.immoweb.be/en/classified/apartment/for-sale/gavere/9890/10146915?searchId=633e837c52cfb\"\n",
    "\n",
    "# response gives us access to All HTML content in raw form\n",
    "response = requests.get(f\"{house_url}\")\n",
    "\n",
    "# BeautifulSoup gives us accessing the single house its room price  in HTML content of web page \n",
    "from bs4 import BeautifulSoup\n",
    "soup = BeautifulSoup(response.content,\"html\")\n",
    "print(soup.prettify())\n",
    "\n"
   ]
  },
  {
   "cell_type": "code",
   "execution_count": null,
   "metadata": {},
   "outputs": [],
   "source": [
    "\n",
    "house_properties = {}\n",
    "for tag in soup.find_all(\"tr\",{\"class\":\"classified-table__row\"}):\n",
    "        for th in tag.find_all(\"th\"):\n",
    "            key = th.contents[0].strip()\n",
    "            break\n",
    "        for td in tag.find_all(\"td\"):\n",
    "            value = td.contents[0].strip()       \n",
    "            break\n",
    "        if key != \"\":\n",
    "           house_properties[key] = value \n",
    "\n",
    "for tag in soup.find_all(\"p\",{\"class\": \"classified__price\"}):   \n",
    "        for span in tag.find_all(\"span\"):\n",
    "            price = span.contents[0].strip()\n",
    "            break\n",
    "        house_properties[\"price\"]= price\n",
    "print(house_properties)\n"
   ]
  },
  {
   "cell_type": "code",
   "execution_count": null,
   "metadata": {},
   "outputs": [],
   "source": [
    "house_properties = {}\n",
    "for tag in soup.find_all(\"p\",{\"class\": \"classified__price\"}):   \n",
    "    for span in tag.find_all(\"span\"):\n",
    "        price = span.contents[0].strip()\n",
    "        break\n",
    "    house_properties[\"price\"]= price\n",
    "print(house_properties)"
   ]
  },
  {
   "cell_type": "code",
   "execution_count": null,
   "metadata": {},
   "outputs": [],
   "source": [
    "# always keep imports out side the function\n",
    "import requests\n",
    "from bs4 import BeautifulSoup\n",
    "def get_property(house_url):\n",
    "    response = requests.get(f\"{house_url}\")\n",
    "    house_properties = {}\n",
    "    soup = BeautifulSoup(response.content,\"html\")\n",
    "    \n",
    "    for tag in soup.find_all(\"tr\",{\"class\":\"classified-table__row\"}):\n",
    "        for th in tag.find_all(\"th\"):\n",
    "            key = th.contents[0].strip()\n",
    "            break\n",
    "        for td in tag.find_all(\"td\"):\n",
    "            value = td.contents[0].strip()       \n",
    "            break\n",
    "        if key != \"\":\n",
    "           house_properties[key] = value \n",
    "\n",
    "    for tag in soup.find_all(\"p\",{\"class\": \"classified__price\"}):   \n",
    "        for span in tag.find_all(\"span\"):\n",
    "            price = span.contents[0].strip()\n",
    "            break\n",
    "        house_properties[\"price\"]= price\n",
    "    return house_properties\n",
    "property = get_property(\"https://www.immoweb.be/en/classified/apartment/for-sale/gavere/9890/10146915?searchId=633e837c52cfb\")\n",
    "\n",
    "property"
   ]
  },
  {
   "cell_type": "code",
   "execution_count": null,
   "metadata": {},
   "outputs": [],
   "source": [
    "import selenium\n",
    "from bs4 import BeautifulSoup\n",
    "from selenium import webdriver\n",
    "from selenium.webdriver.common.keys import Keys\n",
    "#from selenium.webdriver.common.by import By\n",
    "driver = webdriver.Chrome()\n",
    "driver.get(\"https://www.immoweb.be\")\n",
    "\n",
    "def get_links(property_type):    \n",
    "     #for i in range(1,334):\n",
    "     \n",
    "     for i in range(1,3):\n",
    "        search_page = driver.get (f\"https://www.immoweb.be/en/search/{property_type}/for-sale?countries=BE&page={i}&orderBy=relevance\")\n",
    "        pageSource = driver.page_source\n",
    "        soup = BeautifulSoup(pageSource,\"html\")\n",
    "        print(soup)\n",
    "\n",
    "        for tag in soup.find_all(\"a\",{\"class\":\"card__title-link\"}):\n",
    "\n",
    "get_links(\"apartment\")\n"
   ]
  },
  {
   "cell_type": "code",
   "execution_count": null,
   "metadata": {},
   "outputs": [],
   "source": []
  }
 ],
 "metadata": {
  "kernelspec": {
   "display_name": "Python 3.10.7 ('immo_env')",
   "language": "python",
   "name": "python3"
  },
  "language_info": {
   "codemirror_mode": {
    "name": "ipython",
    "version": 3
   },
   "file_extension": ".py",
   "mimetype": "text/x-python",
   "name": "python",
   "nbconvert_exporter": "python",
   "pygments_lexer": "ipython3",
   "version": "3.10.7 (tags/v3.10.7:6cc6b13, Sep  5 2022, 14:08:36) [MSC v.1933 64 bit (AMD64)]"
  },
  "orig_nbformat": 4,
  "vscode": {
   "interpreter": {
    "hash": "39207dcba9079740a532b256103a8370ec145a02445b81e3187840b509e005a1"
   }
  }
 },
 "nbformat": 4,
 "nbformat_minor": 2
}
