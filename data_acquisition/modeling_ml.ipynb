{
 "cells": [
  {
   "cell_type": "markdown",
   "metadata": {},
   "source": [
    "## 1 Data Collection\n",
    "\n",
    "##### Importing libraries"
   ]
  },
  {
   "cell_type": "code",
   "execution_count": 57,
   "metadata": {},
   "outputs": [],
   "source": [
    "import pandas as pd\n",
    "import numpy as np"
   ]
  },
  {
   "cell_type": "markdown",
   "metadata": {},
   "source": [
    "## Data Exploration\n",
    "\n",
    "#####  Data Set"
   ]
  },
  {
   "cell_type": "code",
   "execution_count": 58,
   "metadata": {},
   "outputs": [
    {
     "data": {
      "text/html": [
       "<div>\n",
       "<style scoped>\n",
       "    .dataframe tbody tr th:only-of-type {\n",
       "        vertical-align: middle;\n",
       "    }\n",
       "\n",
       "    .dataframe tbody tr th {\n",
       "        vertical-align: top;\n",
       "    }\n",
       "\n",
       "    .dataframe thead th {\n",
       "        text-align: right;\n",
       "    }\n",
       "</style>\n",
       "<table border=\"1\" class=\"dataframe\">\n",
       "  <thead>\n",
       "    <tr style=\"text-align: right;\">\n",
       "      <th></th>\n",
       "      <th>Unnamed: 0</th>\n",
       "      <th>id</th>\n",
       "      <th>type</th>\n",
       "      <th>subtype</th>\n",
       "      <th>price</th>\n",
       "      <th>zip</th>\n",
       "      <th>kitchen_type</th>\n",
       "      <th>building_condition</th>\n",
       "      <th>energy_heatingType</th>\n",
       "      <th>bedroom_count</th>\n",
       "      <th>...</th>\n",
       "      <th>Living room surface</th>\n",
       "      <th>Kitchen type</th>\n",
       "      <th>Kitchen surface</th>\n",
       "      <th>Bathrooms</th>\n",
       "      <th>Toilets</th>\n",
       "      <th>Basement</th>\n",
       "      <th>Furnished</th>\n",
       "      <th>Surface of the plot</th>\n",
       "      <th>Garden</th>\n",
       "      <th>Terrace surface</th>\n",
       "    </tr>\n",
       "  </thead>\n",
       "  <tbody>\n",
       "    <tr>\n",
       "      <th>0</th>\n",
       "      <td>0</td>\n",
       "      <td>10165619.0</td>\n",
       "      <td>house</td>\n",
       "      <td>house</td>\n",
       "      <td>464000</td>\n",
       "      <td>2890.0</td>\n",
       "      <td>hyperequipped</td>\n",
       "      <td>good</td>\n",
       "      <td>gas</td>\n",
       "      <td>5.0</td>\n",
       "      <td>...</td>\n",
       "      <td>42.0</td>\n",
       "      <td>Hyper equipped</td>\n",
       "      <td>14.0</td>\n",
       "      <td>2.0</td>\n",
       "      <td>2.0</td>\n",
       "      <td>Yes</td>\n",
       "      <td>No</td>\n",
       "      <td>460.0</td>\n",
       "      <td>1</td>\n",
       "      <td>30.0</td>\n",
       "    </tr>\n",
       "    <tr>\n",
       "      <th>1</th>\n",
       "      <td>1</td>\n",
       "      <td>9920179.0</td>\n",
       "      <td>house</td>\n",
       "      <td>mixedusebuilding</td>\n",
       "      <td>295000</td>\n",
       "      <td>2830.0</td>\n",
       "      <td>semiequipped</td>\n",
       "      <td>torenovate</td>\n",
       "      <td>gas</td>\n",
       "      <td>4.0</td>\n",
       "      <td>...</td>\n",
       "      <td>30.0</td>\n",
       "      <td>Semi equipped</td>\n",
       "      <td>8.0</td>\n",
       "      <td>2.0</td>\n",
       "      <td>2.0</td>\n",
       "      <td>no</td>\n",
       "      <td>No</td>\n",
       "      <td>350.0</td>\n",
       "      <td>0</td>\n",
       "      <td>NaN</td>\n",
       "    </tr>\n",
       "    <tr>\n",
       "      <th>2</th>\n",
       "      <td>19</td>\n",
       "      <td>10058734.0</td>\n",
       "      <td>house</td>\n",
       "      <td>villa</td>\n",
       "      <td>699500</td>\n",
       "      <td>2550.0</td>\n",
       "      <td>installed</td>\n",
       "      <td>asnew</td>\n",
       "      <td>gas</td>\n",
       "      <td>3.0</td>\n",
       "      <td>...</td>\n",
       "      <td>NaN</td>\n",
       "      <td>Installed</td>\n",
       "      <td>15.0</td>\n",
       "      <td>2.0</td>\n",
       "      <td>2.0</td>\n",
       "      <td>no</td>\n",
       "      <td>no</td>\n",
       "      <td>799.0</td>\n",
       "      <td>0</td>\n",
       "      <td>8.0</td>\n",
       "    </tr>\n",
       "    <tr>\n",
       "      <th>3</th>\n",
       "      <td>20</td>\n",
       "      <td>10156828.0</td>\n",
       "      <td>house</td>\n",
       "      <td>villa</td>\n",
       "      <td>629900</td>\n",
       "      <td>2390.0</td>\n",
       "      <td>installed</td>\n",
       "      <td>good</td>\n",
       "      <td>gas</td>\n",
       "      <td>4.0</td>\n",
       "      <td>...</td>\n",
       "      <td>56.0</td>\n",
       "      <td>Installed</td>\n",
       "      <td>20.0</td>\n",
       "      <td>2.0</td>\n",
       "      <td>3.0</td>\n",
       "      <td>no</td>\n",
       "      <td>No</td>\n",
       "      <td>1349.0</td>\n",
       "      <td>0</td>\n",
       "      <td>NaN</td>\n",
       "    </tr>\n",
       "    <tr>\n",
       "      <th>4</th>\n",
       "      <td>21</td>\n",
       "      <td>10110568.0</td>\n",
       "      <td>house</td>\n",
       "      <td>villa</td>\n",
       "      <td>3250000</td>\n",
       "      <td>2930.0</td>\n",
       "      <td>hyperequipped</td>\n",
       "      <td>good</td>\n",
       "      <td>gas</td>\n",
       "      <td>5.0</td>\n",
       "      <td>...</td>\n",
       "      <td>56.0</td>\n",
       "      <td>Hyper equipped</td>\n",
       "      <td>41.0</td>\n",
       "      <td>4.0</td>\n",
       "      <td>4.0</td>\n",
       "      <td>Yes</td>\n",
       "      <td>Yes</td>\n",
       "      <td>10431.0</td>\n",
       "      <td>0</td>\n",
       "      <td>396.0</td>\n",
       "    </tr>\n",
       "  </tbody>\n",
       "</table>\n",
       "<p>5 rows × 23 columns</p>\n",
       "</div>"
      ],
      "text/plain": [
       "   Unnamed: 0          id   type           subtype    price     zip  \\\n",
       "0           0  10165619.0  house             house   464000  2890.0   \n",
       "1           1   9920179.0  house  mixedusebuilding   295000  2830.0   \n",
       "2          19  10058734.0  house             villa   699500  2550.0   \n",
       "3          20  10156828.0  house             villa   629900  2390.0   \n",
       "4          21  10110568.0  house             villa  3250000  2930.0   \n",
       "\n",
       "    kitchen_type building_condition energy_heatingType  bedroom_count  ...  \\\n",
       "0  hyperequipped               good                gas            5.0  ...   \n",
       "1   semiequipped         torenovate                gas            4.0  ...   \n",
       "2      installed              asnew                gas            3.0  ...   \n",
       "3      installed               good                gas            4.0  ...   \n",
       "4  hyperequipped               good                gas            5.0  ...   \n",
       "\n",
       "   Living room surface    Kitchen type  Kitchen surface  Bathrooms Toilets  \\\n",
       "0                 42.0  Hyper equipped             14.0        2.0     2.0   \n",
       "1                 30.0   Semi equipped              8.0        2.0     2.0   \n",
       "2                  NaN       Installed             15.0        2.0     2.0   \n",
       "3                 56.0       Installed             20.0        2.0     3.0   \n",
       "4                 56.0  Hyper equipped             41.0        4.0     4.0   \n",
       "\n",
       "   Basement Furnished Surface of the plot Garden Terrace surface  \n",
       "0       Yes        No               460.0      1            30.0  \n",
       "1        no        No               350.0      0             NaN  \n",
       "2        no        no               799.0      0             8.0  \n",
       "3        no        No              1349.0      0             NaN  \n",
       "4       Yes       Yes             10431.0      0           396.0  \n",
       "\n",
       "[5 rows x 23 columns]"
      ]
     },
     "execution_count": 58,
     "metadata": {},
     "output_type": "execute_result"
    }
   ],
   "source": [
    "df = pd.read_csv(\"data_ml.csv\")\n",
    "df.head()"
   ]
  },
  {
   "cell_type": "markdown",
   "metadata": {},
   "source": [
    "#####  Shape of the dataset"
   ]
  },
  {
   "cell_type": "code",
   "execution_count": 59,
   "metadata": {},
   "outputs": [
    {
     "data": {
      "text/plain": [
       "(38649, 23)"
      ]
     },
     "execution_count": 59,
     "metadata": {},
     "output_type": "execute_result"
    }
   ],
   "source": [
    "df.shape"
   ]
  },
  {
   "cell_type": "markdown",
   "metadata": {},
   "source": [
    "##### Checking Data Type of each Column"
   ]
  },
  {
   "cell_type": "code",
   "execution_count": 60,
   "metadata": {},
   "outputs": [
    {
     "name": "stdout",
     "output_type": "stream",
     "text": [
      "<class 'pandas.core.frame.DataFrame'>\n",
      "RangeIndex: 38649 entries, 0 to 38648\n",
      "Data columns (total 23 columns):\n",
      " #   Column               Non-Null Count  Dtype  \n",
      "---  ------               --------------  -----  \n",
      " 0   Unnamed: 0           38649 non-null  int64  \n",
      " 1   id                   38649 non-null  float64\n",
      " 2   type                 38649 non-null  object \n",
      " 3   subtype              38649 non-null  object \n",
      " 4   price                38649 non-null  int64  \n",
      " 5   zip                  38649 non-null  float64\n",
      " 6   kitchen_type         38649 non-null  object \n",
      " 7   building_condition   38649 non-null  object \n",
      " 8   energy_heatingType   38649 non-null  object \n",
      " 9   bedroom_count        38649 non-null  float64\n",
      " 10  land_surface         38649 non-null  float64\n",
      " 11  Province             38649 non-null  object \n",
      " 12  Living area          30381 non-null  float64\n",
      " 13  Living room surface  15987 non-null  float64\n",
      " 14  Kitchen type         38649 non-null  object \n",
      " 15  Kitchen surface      14419 non-null  float64\n",
      " 16  Bathrooms            38649 non-null  object \n",
      " 17  Toilets              38649 non-null  object \n",
      " 18  Basement             38649 non-null  object \n",
      " 19  Furnished            38649 non-null  object \n",
      " 20  Surface of the plot  33470 non-null  float64\n",
      " 21  Garden               38649 non-null  int64  \n",
      " 22  Terrace surface      10372 non-null  float64\n",
      "dtypes: float64(9), int64(3), object(11)\n",
      "memory usage: 6.8+ MB\n"
     ]
    }
   ],
   "source": [
    "df.info()"
   ]
  },
  {
   "cell_type": "markdown",
   "metadata": {},
   "source": [
    "##### Checking Missing Values (NaN) in Dataset "
   ]
  },
  {
   "cell_type": "code",
   "execution_count": 61,
   "metadata": {},
   "outputs": [
    {
     "data": {
      "text/plain": [
       "Unnamed: 0                 0\n",
       "id                         0\n",
       "type                       0\n",
       "subtype                    0\n",
       "price                      0\n",
       "zip                        0\n",
       "kitchen_type               0\n",
       "building_condition         0\n",
       "energy_heatingType         0\n",
       "bedroom_count              0\n",
       "land_surface               0\n",
       "Province                   0\n",
       "Living area             8268\n",
       "Living room surface    22662\n",
       "Kitchen type               0\n",
       "Kitchen surface        24230\n",
       "Bathrooms                  0\n",
       "Toilets                    0\n",
       "Basement                   0\n",
       "Furnished                  0\n",
       "Surface of the plot     5179\n",
       "Garden                     0\n",
       "Terrace surface        28277\n",
       "dtype: int64"
      ]
     },
     "execution_count": 61,
     "metadata": {},
     "output_type": "execute_result"
    }
   ],
   "source": [
    "df.isnull().sum()"
   ]
  },
  {
   "cell_type": "markdown",
   "metadata": {},
   "source": [
    "##### Statistical Summary of the dataset"
   ]
  },
  {
   "cell_type": "code",
   "execution_count": 62,
   "metadata": {},
   "outputs": [
    {
     "data": {
      "text/html": [
       "<div>\n",
       "<style scoped>\n",
       "    .dataframe tbody tr th:only-of-type {\n",
       "        vertical-align: middle;\n",
       "    }\n",
       "\n",
       "    .dataframe tbody tr th {\n",
       "        vertical-align: top;\n",
       "    }\n",
       "\n",
       "    .dataframe thead th {\n",
       "        text-align: right;\n",
       "    }\n",
       "</style>\n",
       "<table border=\"1\" class=\"dataframe\">\n",
       "  <thead>\n",
       "    <tr style=\"text-align: right;\">\n",
       "      <th></th>\n",
       "      <th>Unnamed: 0</th>\n",
       "      <th>id</th>\n",
       "      <th>price</th>\n",
       "      <th>zip</th>\n",
       "      <th>bedroom_count</th>\n",
       "      <th>land_surface</th>\n",
       "      <th>Living area</th>\n",
       "      <th>Living room surface</th>\n",
       "      <th>Kitchen surface</th>\n",
       "      <th>Surface of the plot</th>\n",
       "      <th>Garden</th>\n",
       "      <th>Terrace surface</th>\n",
       "    </tr>\n",
       "  </thead>\n",
       "  <tbody>\n",
       "    <tr>\n",
       "      <th>count</th>\n",
       "      <td>38649.000000</td>\n",
       "      <td>3.864900e+04</td>\n",
       "      <td>3.864900e+04</td>\n",
       "      <td>38649.000000</td>\n",
       "      <td>38649.000000</td>\n",
       "      <td>3.864900e+04</td>\n",
       "      <td>30381.000000</td>\n",
       "      <td>15987.000000</td>\n",
       "      <td>14419.000000</td>\n",
       "      <td>3.347000e+04</td>\n",
       "      <td>38649.000000</td>\n",
       "      <td>10372.000000</td>\n",
       "    </tr>\n",
       "    <tr>\n",
       "      <th>mean</th>\n",
       "      <td>19709.840539</td>\n",
       "      <td>1.000736e+07</td>\n",
       "      <td>4.483759e+05</td>\n",
       "      <td>5374.227018</td>\n",
       "      <td>3.629900</td>\n",
       "      <td>1.391077e+03</td>\n",
       "      <td>229.314210</td>\n",
       "      <td>36.601927</td>\n",
       "      <td>26.203412</td>\n",
       "      <td>1.606327e+03</td>\n",
       "      <td>0.155709</td>\n",
       "      <td>35.616949</td>\n",
       "    </tr>\n",
       "    <tr>\n",
       "      <th>std</th>\n",
       "      <td>11379.815142</td>\n",
       "      <td>2.428166e+05</td>\n",
       "      <td>4.902483e+05</td>\n",
       "      <td>2871.099139</td>\n",
       "      <td>14.298415</td>\n",
       "      <td>1.590421e+04</td>\n",
       "      <td>472.235482</td>\n",
       "      <td>70.943236</td>\n",
       "      <td>1150.018815</td>\n",
       "      <td>1.708036e+04</td>\n",
       "      <td>0.362584</td>\n",
       "      <td>140.030199</td>\n",
       "    </tr>\n",
       "    <tr>\n",
       "      <th>min</th>\n",
       "      <td>0.000000</td>\n",
       "      <td>1.882546e+06</td>\n",
       "      <td>8.350000e+02</td>\n",
       "      <td>1000.000000</td>\n",
       "      <td>0.000000</td>\n",
       "      <td>0.000000e+00</td>\n",
       "      <td>1.000000</td>\n",
       "      <td>1.000000</td>\n",
       "      <td>1.000000</td>\n",
       "      <td>1.000000e+00</td>\n",
       "      <td>0.000000</td>\n",
       "      <td>1.000000</td>\n",
       "    </tr>\n",
       "    <tr>\n",
       "      <th>25%</th>\n",
       "      <td>9813.000000</td>\n",
       "      <td>9.976375e+06</td>\n",
       "      <td>2.300000e+05</td>\n",
       "      <td>2650.000000</td>\n",
       "      <td>3.000000</td>\n",
       "      <td>1.360000e+02</td>\n",
       "      <td>140.000000</td>\n",
       "      <td>25.000000</td>\n",
       "      <td>10.000000</td>\n",
       "      <td>2.100000e+02</td>\n",
       "      <td>0.000000</td>\n",
       "      <td>15.000000</td>\n",
       "    </tr>\n",
       "    <tr>\n",
       "      <th>50%</th>\n",
       "      <td>19736.000000</td>\n",
       "      <td>1.007917e+07</td>\n",
       "      <td>3.390000e+05</td>\n",
       "      <td>5100.000000</td>\n",
       "      <td>3.000000</td>\n",
       "      <td>3.530000e+02</td>\n",
       "      <td>180.000000</td>\n",
       "      <td>32.000000</td>\n",
       "      <td>14.000000</td>\n",
       "      <td>4.460000e+02</td>\n",
       "      <td>0.000000</td>\n",
       "      <td>24.000000</td>\n",
       "    </tr>\n",
       "    <tr>\n",
       "      <th>75%</th>\n",
       "      <td>29516.000000</td>\n",
       "      <td>1.013078e+07</td>\n",
       "      <td>4.908980e+05</td>\n",
       "      <td>8310.000000</td>\n",
       "      <td>4.000000</td>\n",
       "      <td>8.500000e+02</td>\n",
       "      <td>250.000000</td>\n",
       "      <td>41.000000</td>\n",
       "      <td>18.000000</td>\n",
       "      <td>9.700000e+02</td>\n",
       "      <td>0.000000</td>\n",
       "      <td>40.000000</td>\n",
       "    </tr>\n",
       "    <tr>\n",
       "      <th>max</th>\n",
       "      <td>39572.000000</td>\n",
       "      <td>1.016721e+07</td>\n",
       "      <td>1.500000e+07</td>\n",
       "      <td>9992.000000</td>\n",
       "      <td>2020.000000</td>\n",
       "      <td>2.400000e+06</td>\n",
       "      <td>63075.000000</td>\n",
       "      <td>4486.000000</td>\n",
       "      <td>138020.000000</td>\n",
       "      <td>2.400000e+06</td>\n",
       "      <td>1.000000</td>\n",
       "      <td>11500.000000</td>\n",
       "    </tr>\n",
       "  </tbody>\n",
       "</table>\n",
       "</div>"
      ],
      "text/plain": [
       "         Unnamed: 0            id         price           zip  bedroom_count  \\\n",
       "count  38649.000000  3.864900e+04  3.864900e+04  38649.000000   38649.000000   \n",
       "mean   19709.840539  1.000736e+07  4.483759e+05   5374.227018       3.629900   \n",
       "std    11379.815142  2.428166e+05  4.902483e+05   2871.099139      14.298415   \n",
       "min        0.000000  1.882546e+06  8.350000e+02   1000.000000       0.000000   \n",
       "25%     9813.000000  9.976375e+06  2.300000e+05   2650.000000       3.000000   \n",
       "50%    19736.000000  1.007917e+07  3.390000e+05   5100.000000       3.000000   \n",
       "75%    29516.000000  1.013078e+07  4.908980e+05   8310.000000       4.000000   \n",
       "max    39572.000000  1.016721e+07  1.500000e+07   9992.000000    2020.000000   \n",
       "\n",
       "       land_surface   Living area  Living room surface  Kitchen surface  \\\n",
       "count  3.864900e+04  30381.000000         15987.000000     14419.000000   \n",
       "mean   1.391077e+03    229.314210            36.601927        26.203412   \n",
       "std    1.590421e+04    472.235482            70.943236      1150.018815   \n",
       "min    0.000000e+00      1.000000             1.000000         1.000000   \n",
       "25%    1.360000e+02    140.000000            25.000000        10.000000   \n",
       "50%    3.530000e+02    180.000000            32.000000        14.000000   \n",
       "75%    8.500000e+02    250.000000            41.000000        18.000000   \n",
       "max    2.400000e+06  63075.000000          4486.000000    138020.000000   \n",
       "\n",
       "       Surface of the plot        Garden  Terrace surface  \n",
       "count         3.347000e+04  38649.000000     10372.000000  \n",
       "mean          1.606327e+03      0.155709        35.616949  \n",
       "std           1.708036e+04      0.362584       140.030199  \n",
       "min           1.000000e+00      0.000000         1.000000  \n",
       "25%           2.100000e+02      0.000000        15.000000  \n",
       "50%           4.460000e+02      0.000000        24.000000  \n",
       "75%           9.700000e+02      0.000000        40.000000  \n",
       "max           2.400000e+06      1.000000     11500.000000  "
      ]
     },
     "execution_count": 62,
     "metadata": {},
     "output_type": "execute_result"
    }
   ],
   "source": [
    "df.describe()"
   ]
  },
  {
   "cell_type": "markdown",
   "metadata": {},
   "source": [
    "##### Handling Missing Values"
   ]
  },
  {
   "cell_type": "code",
   "execution_count": 63,
   "metadata": {},
   "outputs": [
    {
     "data": {
      "text/plain": [
       "Unnamed: 0              0.000000\n",
       "id                      0.000000\n",
       "type                    0.000000\n",
       "subtype                 0.000000\n",
       "price                   0.000000\n",
       "zip                     0.000000\n",
       "kitchen_type            0.000000\n",
       "building_condition      0.000000\n",
       "energy_heatingType      0.000000\n",
       "bedroom_count           0.000000\n",
       "land_surface            0.000000\n",
       "Province                0.000000\n",
       "Living area            21.392533\n",
       "Living room surface    58.635411\n",
       "Kitchen type            0.000000\n",
       "Kitchen surface        62.692437\n",
       "Bathrooms               0.000000\n",
       "Toilets                 0.000000\n",
       "Basement                0.000000\n",
       "Furnished               0.000000\n",
       "Surface of the plot    13.400088\n",
       "Garden                  0.000000\n",
       "Terrace surface        73.163601\n",
       "dtype: float64"
      ]
     },
     "execution_count": 63,
     "metadata": {},
     "output_type": "execute_result"
    }
   ],
   "source": [
    "# Percentage of missing values for every column\n",
    "percent_missing = df.isnull().sum() * 100 / len(df)\n",
    "percent_missing"
   ]
  },
  {
   "cell_type": "code",
   "execution_count": 64,
   "metadata": {},
   "outputs": [
    {
     "data": {
      "text/plain": [
       "0"
      ]
     },
     "execution_count": 64,
     "metadata": {},
     "output_type": "execute_result"
    }
   ],
   "source": [
    "# removing null value in \"Surface of the plot\" column \n",
    "df.dropna(subset=['Surface of the plot','Living area'], inplace=True)\n",
    "# checking again null value\n",
    "df['Surface of the plot'].isnull().sum()\n",
    "df['Living area'].isnull().sum()"
   ]
  },
  {
   "cell_type": "code",
   "execution_count": 65,
   "metadata": {},
   "outputs": [
    {
     "data": {
      "text/plain": [
       "Index(['Unnamed: 0', 'id', 'subtype', 'price', 'kitchen_type',\n",
       "       'building_condition', 'energy_heatingType', 'bedroom_count',\n",
       "       'land_surface', 'Province', 'Living area', 'Kitchen type', 'Bathrooms',\n",
       "       'Toilets', 'Basement', 'Furnished', 'Surface of the plot', 'Garden'],\n",
       "      dtype='object')"
      ]
     },
     "execution_count": 65,
     "metadata": {},
     "output_type": "execute_result"
    }
   ],
   "source": [
    "# drop columns\n",
    "df.drop(['zip','type','Terrace surface', 'Kitchen surface','Living room surface'], axis=1, inplace=True)\n",
    "df.columns"
   ]
  },
  {
   "cell_type": "code",
   "execution_count": 66,
   "metadata": {},
   "outputs": [
    {
     "name": "stdout",
     "output_type": "stream",
     "text": [
      "['2.0' '4.0' '1.0' '3.0' 'no' '5.0' '10.0' '6.0' '20.0' '7.0' '16.0' '8.0'\n",
      " '36.0' '19.0' '14.0' '13.0' '9.0' '17.0' '12.0' '15.0' '18.0' '28.0'\n",
      " '11.0' '45.0']\n"
     ]
    }
   ],
   "source": [
    "# print unique values in Bathrooms \n",
    "print(df['Bathrooms'].unique())"
   ]
  },
  {
   "cell_type": "code",
   "execution_count": 67,
   "metadata": {},
   "outputs": [
    {
     "name": "stdout",
     "output_type": "stream",
     "text": [
      "[ 2.  4.  1.  3.  5. 10.  6. 20.  7. 16.  8. 36. 19. 14. 13.  9. 17. 12.\n",
      " 15. 18. 28. 11. 45.]\n"
     ]
    }
   ],
   "source": [
    "# Replacing 'no' with 1 \n",
    "df['Bathrooms'] = df['Bathrooms'].replace('no',1)\n",
    "# changing Bathroom type to float\n",
    "df['Bathrooms'] = df['Bathrooms'].astype(float)\n",
    "print(df['Bathrooms'].unique())\n"
   ]
  },
  {
   "cell_type": "code",
   "execution_count": 68,
   "metadata": {},
   "outputs": [
    {
     "data": {
      "text/plain": [
       "Unnamed: 0             0.0\n",
       "id                     0.0\n",
       "subtype                0.0\n",
       "price                  0.0\n",
       "kitchen_type           0.0\n",
       "building_condition     0.0\n",
       "energy_heatingType     0.0\n",
       "bedroom_count          0.0\n",
       "land_surface           0.0\n",
       "Province               0.0\n",
       "Living area            0.0\n",
       "Kitchen type           0.0\n",
       "Bathrooms              0.0\n",
       "Toilets                0.0\n",
       "Basement               0.0\n",
       "Furnished              0.0\n",
       "Surface of the plot    0.0\n",
       "Garden                 0.0\n",
       "dtype: float64"
      ]
     },
     "execution_count": 68,
     "metadata": {},
     "output_type": "execute_result"
    }
   ],
   "source": [
    "# checking again % missing values \n",
    "percent_missing = df.isnull().sum() * 100 / len(df)\n",
    "percent_missing"
   ]
  },
  {
   "cell_type": "markdown",
   "metadata": {},
   "source": [
    "All missing values in the data set are handled succcessfully"
   ]
  },
  {
   "cell_type": "code",
   "execution_count": 69,
   "metadata": {},
   "outputs": [],
   "source": [
    "df1 = df.copy()"
   ]
  },
  {
   "cell_type": "code",
   "execution_count": 70,
   "metadata": {},
   "outputs": [
    {
     "data": {
      "text/plain": [
       "2020.0"
      ]
     },
     "execution_count": 70,
     "metadata": {},
     "output_type": "execute_result"
    }
   ],
   "source": [
    "df1[\"bedroom_count\"].max()"
   ]
  },
  {
   "cell_type": "code",
   "execution_count": 71,
   "metadata": {},
   "outputs": [
    {
     "data": {
      "text/plain": [
       "7.0"
      ]
     },
     "execution_count": 71,
     "metadata": {},
     "output_type": "execute_result"
    }
   ],
   "source": [
    "# removing outliers\n",
    "df1 = df1[df1[\"bedroom_count\"] < 8]\n",
    "df1[\"bedroom_count\"].max()"
   ]
  },
  {
   "cell_type": "markdown",
   "metadata": {},
   "source": [
    "##### Feature Encoding "
   ]
  },
  {
   "cell_type": "code",
   "execution_count": 32,
   "metadata": {},
   "outputs": [
    {
     "name": "stdout",
     "output_type": "stream",
     "text": [
      "['Yes' 'no']\n"
     ]
    }
   ],
   "source": [
    "print(df1[\"Basement\"].unique())"
   ]
  },
  {
   "cell_type": "code",
   "execution_count": 33,
   "metadata": {},
   "outputs": [
    {
     "name": "stdout",
     "output_type": "stream",
     "text": [
      "[1 0]\n"
     ]
    }
   ],
   "source": [
    "df1['Basement'] = df1['Basement'].map({'Yes': 1, 'no': 0})\n",
    "print(df1[\"Basement\"].unique())"
   ]
  },
  {
   "cell_type": "code",
   "execution_count": 34,
   "metadata": {},
   "outputs": [
    {
     "name": "stdout",
     "output_type": "stream",
     "text": [
      "['No' 'no' 'Yes']\n"
     ]
    }
   ],
   "source": [
    "print(df1[\"Furnished\"].unique())"
   ]
  },
  {
   "cell_type": "code",
   "execution_count": 35,
   "metadata": {},
   "outputs": [
    {
     "name": "stdout",
     "output_type": "stream",
     "text": [
      "['no' 'Yes']\n"
     ]
    }
   ],
   "source": [
    "df1[\"Furnished\"] = df1[\"Furnished\"].str.replace('No','no')\n",
    "print(df1[\"Furnished\"].unique())"
   ]
  },
  {
   "cell_type": "code",
   "execution_count": 36,
   "metadata": {},
   "outputs": [
    {
     "name": "stdout",
     "output_type": "stream",
     "text": [
      "[0 1]\n"
     ]
    }
   ],
   "source": [
    "df1[\"Furnished\"] = df1[\"Furnished\"].map({'Yes': 1, 'no': 0})\n",
    "print(df1[\"Furnished\"].unique())"
   ]
  },
  {
   "cell_type": "markdown",
   "metadata": {},
   "source": [
    "##  Modeling (Regression)"
   ]
  },
  {
   "cell_type": "code",
   "execution_count": 43,
   "metadata": {},
   "outputs": [
    {
     "data": {
      "text/plain": [
       "Index(['Unnamed: 0', 'id', 'subtype', 'price', 'kitchen_type',\n",
       "       'building_condition', 'energy_heatingType', 'bedroom_count',\n",
       "       'land_surface', 'Province', 'Living area', 'Kitchen type', 'Bathrooms',\n",
       "       'Toilets', 'Basement', 'Furnished', 'Surface of the plot', 'Garden'],\n",
       "      dtype='object')"
      ]
     },
     "execution_count": 43,
     "metadata": {},
     "output_type": "execute_result"
    }
   ],
   "source": [
    "df1.columns"
   ]
  },
  {
   "cell_type": "code",
   "execution_count": 45,
   "metadata": {},
   "outputs": [],
   "source": [
    "X = df1[[\"bedroom_count\",\"Living area\",\"Bathrooms\",\"Garden\",\"Basement\",\"Furnished\"]]\n",
    "y = df1[\"price\"]"
   ]
  },
  {
   "cell_type": "code",
   "execution_count": 46,
   "metadata": {},
   "outputs": [],
   "source": [
    "from sklearn.model_selection import train_test_split\n",
    "X_train, X_test, y_train, y_test = train_test_split(X,y,test_size=0.2, \n",
    "train_size=0.8, random_state = 77)"
   ]
  },
  {
   "cell_type": "code",
   "execution_count": 48,
   "metadata": {},
   "outputs": [],
   "source": [
    "# Normalization step for 'Living area' using StandardScaler\n",
    "Cols = [\"Living area\"]\n",
    "from sklearn.preprocessing import StandardScaler\n",
    "Std_Scaler = StandardScaler()\n",
    "Std_data = Std_Scaler.fit_transform(X_train)\n",
    "\n",
    "X_train = X_train.copy()\n",
    "X_test = X_test.copy()\n",
    "X_train[Cols] = Std_Scaler.fit_transform(X_train[Cols])\n",
    "X_test[Cols] = Std_Scaler.fit_transform(X_test[Cols])"
   ]
  },
  {
   "cell_type": "code",
   "execution_count": 50,
   "metadata": {},
   "outputs": [
    {
     "name": "stdout",
     "output_type": "stream",
     "text": [
      "<class 'pandas.core.frame.DataFrame'>\n"
     ]
    },
    {
     "data": {
      "text/html": [
       "<div>\n",
       "<style scoped>\n",
       "    .dataframe tbody tr th:only-of-type {\n",
       "        vertical-align: middle;\n",
       "    }\n",
       "\n",
       "    .dataframe tbody tr th {\n",
       "        vertical-align: top;\n",
       "    }\n",
       "\n",
       "    .dataframe thead th {\n",
       "        text-align: right;\n",
       "    }\n",
       "</style>\n",
       "<table border=\"1\" class=\"dataframe\">\n",
       "  <thead>\n",
       "    <tr style=\"text-align: right;\">\n",
       "      <th></th>\n",
       "      <th>bedroom_count</th>\n",
       "      <th>Living area</th>\n",
       "      <th>Bathrooms</th>\n",
       "      <th>Garden</th>\n",
       "      <th>Basement</th>\n",
       "      <th>Furnished</th>\n",
       "    </tr>\n",
       "  </thead>\n",
       "  <tbody>\n",
       "    <tr>\n",
       "      <th>16647</th>\n",
       "      <td>3.0</td>\n",
       "      <td>-0.236466</td>\n",
       "      <td>1.0</td>\n",
       "      <td>0</td>\n",
       "      <td>1</td>\n",
       "      <td>0</td>\n",
       "    </tr>\n",
       "    <tr>\n",
       "      <th>20886</th>\n",
       "      <td>3.0</td>\n",
       "      <td>-0.165393</td>\n",
       "      <td>1.0</td>\n",
       "      <td>0</td>\n",
       "      <td>1</td>\n",
       "      <td>0</td>\n",
       "    </tr>\n",
       "    <tr>\n",
       "      <th>23651</th>\n",
       "      <td>0.0</td>\n",
       "      <td>0.641383</td>\n",
       "      <td>1.0</td>\n",
       "      <td>0</td>\n",
       "      <td>0</td>\n",
       "      <td>0</td>\n",
       "    </tr>\n",
       "    <tr>\n",
       "      <th>17827</th>\n",
       "      <td>3.0</td>\n",
       "      <td>-0.092399</td>\n",
       "      <td>3.0</td>\n",
       "      <td>0</td>\n",
       "      <td>1</td>\n",
       "      <td>0</td>\n",
       "    </tr>\n",
       "    <tr>\n",
       "      <th>4510</th>\n",
       "      <td>2.0</td>\n",
       "      <td>0.070877</td>\n",
       "      <td>1.0</td>\n",
       "      <td>0</td>\n",
       "      <td>0</td>\n",
       "      <td>0</td>\n",
       "    </tr>\n",
       "  </tbody>\n",
       "</table>\n",
       "</div>"
      ],
      "text/plain": [
       "       bedroom_count  Living area  Bathrooms  Garden  Basement  Furnished\n",
       "16647            3.0    -0.236466        1.0       0         1          0\n",
       "20886            3.0    -0.165393        1.0       0         1          0\n",
       "23651            0.0     0.641383        1.0       0         0          0\n",
       "17827            3.0    -0.092399        3.0       0         1          0\n",
       "4510             2.0     0.070877        1.0       0         0          0"
      ]
     },
     "execution_count": 50,
     "metadata": {},
     "output_type": "execute_result"
    }
   ],
   "source": [
    "print(type(X_train))\n",
    "X_train.head()"
   ]
  },
  {
   "cell_type": "code",
   "execution_count": 51,
   "metadata": {},
   "outputs": [],
   "source": [
    "from sklearn.linear_model import LinearRegression\n",
    "regressor= LinearRegression()\n",
    "model = regressor.fit(X_train, y_train)"
   ]
  },
  {
   "cell_type": "code",
   "execution_count": 52,
   "metadata": {},
   "outputs": [
    {
     "name": "stdout",
     "output_type": "stream",
     "text": [
      "Intercept: -88470.47193656676\n",
      "Coefficients: [ 50292.10497134  61179.02199986 266067.02177132  34387.54399827\n",
      "    876.58224372 -37459.88851867]\n"
     ]
    }
   ],
   "source": [
    "print('Intercept:', model.intercept_)\n",
    "print('Coefficients:', model.coef_)"
   ]
  },
  {
   "cell_type": "code",
   "execution_count": 53,
   "metadata": {},
   "outputs": [
    {
     "data": {
      "text/plain": [
       "0.30952356757065946"
      ]
     },
     "execution_count": 53,
     "metadata": {},
     "output_type": "execute_result"
    }
   ],
   "source": [
    "regressor.score(X_train,y_train)"
   ]
  },
  {
   "cell_type": "code",
   "execution_count": 54,
   "metadata": {},
   "outputs": [
    {
     "data": {
      "text/plain": [
       "0.40474564934646984"
      ]
     },
     "execution_count": 54,
     "metadata": {},
     "output_type": "execute_result"
    }
   ],
   "source": [
    "y_pred = regressor.predict(X_test)\n",
    "regressor.score(X_test,y_test)"
   ]
  },
  {
   "cell_type": "code",
   "execution_count": 55,
   "metadata": {},
   "outputs": [
    {
     "data": {
      "image/png": "[encoded data removed]",
      "text/plain": [
       "<Figure size 600x400 with 1 Axes>"
      ]
     },
     "metadata": {},
     "output_type": "display_data"
    }
   ],
   "source": [
    "import matplotlib.pyplot as plt\n",
    "from mpl_toolkits.mplot3d import Axes3D\n",
    "\n",
    "fig_size = plt.figure(figsize=(6,4))\n",
    "ax = fig_size.add_subplot()\n",
    "ax.scatter(y_test,y_pred)\n",
    "plt.title(\"Comparing Actual & Predicticted price\")\n",
    "plt.xlabel(\"Actual price\")\n",
    "plt.ylabel(\"Predicticted price\")\n",
    "plt.show()"
   ]
  }
 ],
 "metadata": {
  "kernelspec": {
   "display_name": "immo_env",
   "language": "python",
   "name": "python3"
  },
  "language_info": {
   "codemirror_mode": {
    "name": "ipython",
    "version": 3
   },
   "file_extension": ".py",
   "mimetype": "text/x-python",
   "name": "python",
   "nbconvert_exporter": "python",
   "pygments_lexer": "ipython3",
   "version": "3.10.7 (tags/v3.10.7:6cc6b13, Sep  5 2022, 14:08:36) [MSC v.1933 64 bit (AMD64)]"
  },
  "orig_nbformat": 4,
  "vscode": {
   "interpreter": {
    "hash": "39207dcba9079740a532b256103a8370ec145a02445b81e3187840b509e005a1"
   }
  }
 },
 "nbformat": 4,
 "nbformat_minor": 2
}
